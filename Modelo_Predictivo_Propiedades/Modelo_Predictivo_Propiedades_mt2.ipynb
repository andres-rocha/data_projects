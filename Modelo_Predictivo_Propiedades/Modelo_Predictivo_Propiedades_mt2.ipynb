{
 "cells": [
  {
   "cell_type": "markdown",
   "id": "e8dc4a58",
   "metadata": {},
   "source": [
    "**Modelo de Prediccion de Precios de viviendas. Se trabaja sobre un dataset de ventas de propiedades del centro de alguna ciudad para predecir el precio por m2 en Unidades de fomento.**\n"
   ]
  },
  {
   "cell_type": "markdown",
   "id": "977b016c",
   "metadata": {},
   "source": [
    "El desafío es:\n",
    "\n",
    "* Realizar un Análisis exploratorio de los datos.\n",
    "* Limpiar y preparar los datos para el modelado.\n",
    "* Identificar variables con valor predictivo que ayuden a predecir el precio_uf_m2.\n",
    "* Entrenar un modelo predictivo que tenga el menor RMSE posible (el cual debe ser menor a 7) cuando sea evaluado contra un subconjunto de datos de validación.\n",
    "* Agregar celdas markdown y celdas de código para crear una solución a este desafío."
   ]
  },
  {
   "cell_type": "code",
   "execution_count": 1,
   "id": "1efedfd0",
   "metadata": {},
   "outputs": [],
   "source": [
    "import pandas as pd\n",
    "from sklearn.model_selection import train_test_split\n",
    "from sklearn.model_selection import GridSearchCV\n",
    "from xgboost import XGBRegressor\n",
    "import xgboost as xgb\n",
    "import matplotlib.pyplot as pyplot\n",
    "import math\n",
    "import numpy as np\n",
    "\n"
   ]
  },
  {
   "cell_type": "code",
   "execution_count": 2,
   "id": "8822c92a",
   "metadata": {},
   "outputs": [
    {
     "data": {
      "text/html": [
       "<div>\n",
       "<style scoped>\n",
       "    .dataframe tbody tr th:only-of-type {\n",
       "        vertical-align: middle;\n",
       "    }\n",
       "\n",
       "    .dataframe tbody tr th {\n",
       "        vertical-align: top;\n",
       "    }\n",
       "\n",
       "    .dataframe thead th {\n",
       "        text-align: right;\n",
       "    }\n",
       "</style>\n",
       "<table border=\"1\" class=\"dataframe\">\n",
       "  <thead>\n",
       "    <tr style=\"text-align: right;\">\n",
       "      <th></th>\n",
       "      <th>fecha_venta</th>\n",
       "      <th>antiguedad_propiedad</th>\n",
       "      <th>distancia_al_metro</th>\n",
       "      <th>tiendas_cercanas</th>\n",
       "      <th>latitud</th>\n",
       "      <th>longitud</th>\n",
       "      <th>precio_uf_m2</th>\n",
       "    </tr>\n",
       "  </thead>\n",
       "  <tbody>\n",
       "    <tr>\n",
       "      <th>0</th>\n",
       "      <td>2013.333</td>\n",
       "      <td>10.8</td>\n",
       "      <td>252.5822</td>\n",
       "      <td>1.0</td>\n",
       "      <td>-33.46459999999999</td>\n",
       "      <td>-70.63046</td>\n",
       "      <td>117.5</td>\n",
       "    </tr>\n",
       "    <tr>\n",
       "      <th>1</th>\n",
       "      <td>2013.333</td>\n",
       "      <td>37.2</td>\n",
       "      <td>186.5101</td>\n",
       "      <td>9.0</td>\n",
       "      <td>-33.467029999999994</td>\n",
       "      <td>-70.64265</td>\n",
       "      <td>78.3</td>\n",
       "    </tr>\n",
       "    <tr>\n",
       "      <th>2</th>\n",
       "      <td>2013.583</td>\n",
       "      <td>35.4</td>\n",
       "      <td>318.5292</td>\n",
       "      <td>9.0</td>\n",
       "      <td>-33.46070999999999</td>\n",
       "      <td>-70.64069</td>\n",
       "      <td>78.0</td>\n",
       "    </tr>\n",
       "    <tr>\n",
       "      <th>3</th>\n",
       "      <td>2013.417</td>\n",
       "      <td>0.0</td>\n",
       "      <td>292.9978</td>\n",
       "      <td>6.0</td>\n",
       "      <td>-33.46744</td>\n",
       "      <td>-70.64458</td>\n",
       "      <td>73.6</td>\n",
       "    </tr>\n",
       "    <tr>\n",
       "      <th>4</th>\n",
       "      <td>2012.833</td>\n",
       "      <td>0.0</td>\n",
       "      <td>292.9978</td>\n",
       "      <td>6.0</td>\n",
       "      <td>-33.46744</td>\n",
       "      <td>-70.64458</td>\n",
       "      <td>71.0</td>\n",
       "    </tr>\n",
       "    <tr>\n",
       "      <th>5</th>\n",
       "      <td>2013.250</td>\n",
       "      <td>0.0</td>\n",
       "      <td>292.9978</td>\n",
       "      <td>6.0</td>\n",
       "      <td>-33.46744</td>\n",
       "      <td>-70.64458</td>\n",
       "      <td>70.1</td>\n",
       "    </tr>\n",
       "    <tr>\n",
       "      <th>6</th>\n",
       "      <td>2013.333</td>\n",
       "      <td>0.0</td>\n",
       "      <td>292.9978</td>\n",
       "      <td>6.0</td>\n",
       "      <td>-33.46744</td>\n",
       "      <td>-70.64458</td>\n",
       "      <td>69.7</td>\n",
       "    </tr>\n",
       "    <tr>\n",
       "      <th>7</th>\n",
       "      <td>2013.250</td>\n",
       "      <td>40.9</td>\n",
       "      <td>122.3619</td>\n",
       "      <td>8.0</td>\n",
       "      <td>-33.457559999999994</td>\n",
       "      <td>-70.64230</td>\n",
       "      <td>67.7</td>\n",
       "    </tr>\n",
       "    <tr>\n",
       "      <th>8</th>\n",
       "      <td>2013.500</td>\n",
       "      <td>15.3</td>\n",
       "      <td>370.0000</td>\n",
       "      <td>1.0</td>\n",
       "      <td>NaN</td>\n",
       "      <td>NaN</td>\n",
       "      <td>66.0</td>\n",
       "    </tr>\n",
       "    <tr>\n",
       "      <th>9</th>\n",
       "      <td>2012.833</td>\n",
       "      <td>15.3</td>\n",
       "      <td>370.0000</td>\n",
       "      <td>1.0</td>\n",
       "      <td>NaN</td>\n",
       "      <td>NaN</td>\n",
       "      <td>66.0</td>\n",
       "    </tr>\n",
       "  </tbody>\n",
       "</table>\n",
       "</div>"
      ],
      "text/plain": [
       "   fecha_venta  antiguedad_propiedad  distancia_al_metro  tiendas_cercanas  \\\n",
       "0     2013.333                  10.8            252.5822               1.0   \n",
       "1     2013.333                  37.2            186.5101               9.0   \n",
       "2     2013.583                  35.4            318.5292               9.0   \n",
       "3     2013.417                   0.0            292.9978               6.0   \n",
       "4     2012.833                   0.0            292.9978               6.0   \n",
       "5     2013.250                   0.0            292.9978               6.0   \n",
       "6     2013.333                   0.0            292.9978               6.0   \n",
       "7     2013.250                  40.9            122.3619               8.0   \n",
       "8     2013.500                  15.3            370.0000               1.0   \n",
       "9     2012.833                  15.3            370.0000               1.0   \n",
       "\n",
       "               latitud  longitud  precio_uf_m2  \n",
       "0   -33.46459999999999 -70.63046         117.5  \n",
       "1  -33.467029999999994 -70.64265          78.3  \n",
       "2   -33.46070999999999 -70.64069          78.0  \n",
       "3            -33.46744 -70.64458          73.6  \n",
       "4            -33.46744 -70.64458          71.0  \n",
       "5            -33.46744 -70.64458          70.1  \n",
       "6            -33.46744 -70.64458          69.7  \n",
       "7  -33.457559999999994 -70.64230          67.7  \n",
       "8                  NaN       NaN          66.0  \n",
       "9                  NaN       NaN          66.0  "
      ]
     },
     "execution_count": 2,
     "metadata": {},
     "output_type": "execute_result"
    }
   ],
   "source": [
    "df =pd.read_csv('datos_prueba.csv',index_col=0)\n",
    "df.head(10)"
   ]
  },
  {
   "cell_type": "markdown",
   "id": "030fa1d5",
   "metadata": {},
   "source": [
    "    1.- Análisis exploratorio de datos"
   ]
  },
  {
   "cell_type": "code",
   "execution_count": 3,
   "id": "6f6124b2",
   "metadata": {},
   "outputs": [
    {
     "data": {
      "text/plain": [
       "(450, 7)"
      ]
     },
     "execution_count": 3,
     "metadata": {},
     "output_type": "execute_result"
    }
   ],
   "source": [
    "df.columns=['fecha','a_prop','dist_m','t_cerc','lat','long','uf_m2']\n",
    "df.shape # cantidad de datos"
   ]
  },
  {
   "cell_type": "code",
   "execution_count": 4,
   "id": "ab362df4",
   "metadata": {},
   "outputs": [
    {
     "name": "stdout",
     "output_type": "stream",
     "text": [
      "<class 'pandas.core.frame.DataFrame'>\n",
      "Int64Index: 450 entries, 0 to 449\n",
      "Data columns (total 7 columns):\n",
      " #   Column  Non-Null Count  Dtype  \n",
      "---  ------  --------------  -----  \n",
      " 0   fecha   449 non-null    float64\n",
      " 1   a_prop  446 non-null    float64\n",
      " 2   dist_m  445 non-null    float64\n",
      " 3   t_cerc  436 non-null    float64\n",
      " 4   lat     433 non-null    object \n",
      " 5   long    431 non-null    float64\n",
      " 6   uf_m2   450 non-null    float64\n",
      "dtypes: float64(6), object(1)\n",
      "memory usage: 28.1+ KB\n"
     ]
    }
   ],
   "source": [
    "df.info() #cambiamos las variables de cualquier tipo a numéricas"
   ]
  },
  {
   "cell_type": "code",
   "execution_count": 5,
   "id": "eaf130bc",
   "metadata": {},
   "outputs": [],
   "source": [
    "is_NaN=df.isnull() #verificamos datos nulos\n",
    "row_has_NaN = is_NaN.any(axis=1)\n",
    "rows_with_NaN = df[row_has_NaN]\n"
   ]
  },
  {
   "cell_type": "code",
   "execution_count": 6,
   "id": "8ebe5809",
   "metadata": {},
   "outputs": [
    {
     "name": "stdout",
     "output_type": "stream",
     "text": [
      "        fecha  a_prop  dist_m  t_cerc   lat  long  uf_m2\n",
      "8    2013.500    15.3   370.0     1.0   NaN   NaN   66.0\n",
      "9    2012.833    15.3   370.0     1.0   NaN   NaN   66.0\n",
      "22   2012.917    23.5   423.0     NaN   NaN   NaN   60.0\n",
      "23   2013.333    23.5   423.0     NaN   NaN   NaN   60.0\n",
      "51   2013.083     4.2   243.0     NaN   NaN   NaN   54.0\n",
      "52   2012.083     4.2   243.0     NaN   NaN   NaN   54.0\n",
      "139  2013.500    14.1     3.0   500.0   NaN   NaN   44.0\n",
      "141  2013.583    14.1     3.0   500.0   NaN   NaN   44.0\n",
      "208  2013.000     NaN     NaN     NaN  nan,   NaN   40.0\n",
      "279  2012.250    13.3   303.0     NaN   NaN   NaN   34.0\n",
      "280  2012.667    13.3   303.0     NaN   NaN   NaN   34.0\n",
      "281  2012.250    33.3   533.0     NaN   NaN   NaN   34.0\n",
      "282  2012.917    33.3   533.0     NaN   NaN   NaN   34.0\n",
      "296       NaN     NaN     NaN     NaN   NaN   NaN   32.0\n",
      "317  2013.417     NaN     NaN     NaN  nan,   NaN   30.0\n",
      "386  2013.083     NaN     NaN     NaN   NaN   NaN   23.0\n",
      "392  2013.500    25.5     NaN     0.0   NaN   NaN   22.4\n",
      "435  2012.917     5.2   213.0     NaN   NaN   NaN   14.0\n",
      "436  2014.417     5.2   213.0     NaN   NaN   NaN   14.0\n"
     ]
    }
   ],
   "source": [
    "print(rows_with_NaN)"
   ]
  },
  {
   "cell_type": "code",
   "execution_count": 7,
   "id": "61cbb999",
   "metadata": {},
   "outputs": [],
   "source": [
    "df=df.fillna(0) #cambiamos valores nulos por cero. Puede haber correlacion entre las variables restantes y el objetivo \n",
    "# por lo que no se eliminan\n"
   ]
  },
  {
   "cell_type": "code",
   "execution_count": 8,
   "id": "64166ba1",
   "metadata": {},
   "outputs": [
    {
     "data": {
      "text/html": [
       "<div>\n",
       "<style scoped>\n",
       "    .dataframe tbody tr th:only-of-type {\n",
       "        vertical-align: middle;\n",
       "    }\n",
       "\n",
       "    .dataframe tbody tr th {\n",
       "        vertical-align: top;\n",
       "    }\n",
       "\n",
       "    .dataframe thead th {\n",
       "        text-align: right;\n",
       "    }\n",
       "</style>\n",
       "<table border=\"1\" class=\"dataframe\">\n",
       "  <thead>\n",
       "    <tr style=\"text-align: right;\">\n",
       "      <th></th>\n",
       "      <th>fecha</th>\n",
       "      <th>a_prop</th>\n",
       "      <th>dist_m</th>\n",
       "      <th>t_cerc</th>\n",
       "      <th>lat</th>\n",
       "      <th>long</th>\n",
       "      <th>uf_m2</th>\n",
       "    </tr>\n",
       "  </thead>\n",
       "  <tbody>\n",
       "    <tr>\n",
       "      <th>0</th>\n",
       "      <td>2013.333</td>\n",
       "      <td>10.8</td>\n",
       "      <td>252.5822</td>\n",
       "      <td>1.0</td>\n",
       "      <td>-33.46459999999999</td>\n",
       "      <td>-70.63046</td>\n",
       "      <td>117.5</td>\n",
       "    </tr>\n",
       "    <tr>\n",
       "      <th>1</th>\n",
       "      <td>2013.333</td>\n",
       "      <td>37.2</td>\n",
       "      <td>186.5101</td>\n",
       "      <td>9.0</td>\n",
       "      <td>-33.467029999999994</td>\n",
       "      <td>-70.64265</td>\n",
       "      <td>78.3</td>\n",
       "    </tr>\n",
       "    <tr>\n",
       "      <th>2</th>\n",
       "      <td>2013.583</td>\n",
       "      <td>35.4</td>\n",
       "      <td>318.5292</td>\n",
       "      <td>9.0</td>\n",
       "      <td>-33.46070999999999</td>\n",
       "      <td>-70.64069</td>\n",
       "      <td>78.0</td>\n",
       "    </tr>\n",
       "    <tr>\n",
       "      <th>3</th>\n",
       "      <td>2013.417</td>\n",
       "      <td>0.0</td>\n",
       "      <td>292.9978</td>\n",
       "      <td>6.0</td>\n",
       "      <td>-33.46744</td>\n",
       "      <td>-70.64458</td>\n",
       "      <td>73.6</td>\n",
       "    </tr>\n",
       "    <tr>\n",
       "      <th>4</th>\n",
       "      <td>2012.833</td>\n",
       "      <td>0.0</td>\n",
       "      <td>292.9978</td>\n",
       "      <td>6.0</td>\n",
       "      <td>-33.46744</td>\n",
       "      <td>-70.64458</td>\n",
       "      <td>71.0</td>\n",
       "    </tr>\n",
       "    <tr>\n",
       "      <th>...</th>\n",
       "      <td>...</td>\n",
       "      <td>...</td>\n",
       "      <td>...</td>\n",
       "      <td>...</td>\n",
       "      <td>...</td>\n",
       "      <td>...</td>\n",
       "      <td>...</td>\n",
       "    </tr>\n",
       "    <tr>\n",
       "      <th>95</th>\n",
       "      <td>2013.083</td>\n",
       "      <td>13.2</td>\n",
       "      <td>150.9347</td>\n",
       "      <td>7.0</td>\n",
       "      <td>-33.457249999999995</td>\n",
       "      <td>-70.64252</td>\n",
       "      <td>48.1</td>\n",
       "    </tr>\n",
       "    <tr>\n",
       "      <th>96</th>\n",
       "      <td>2013.333</td>\n",
       "      <td>19.2</td>\n",
       "      <td>383.7129</td>\n",
       "      <td>8.0</td>\n",
       "      <td>-33.462</td>\n",
       "      <td>-70.64477</td>\n",
       "      <td>48.1</td>\n",
       "    </tr>\n",
       "    <tr>\n",
       "      <th>97</th>\n",
       "      <td>2013.500</td>\n",
       "      <td>13.6</td>\n",
       "      <td>492.2313</td>\n",
       "      <td>5.0</td>\n",
       "      <td>-33.45515</td>\n",
       "      <td>-70.63737</td>\n",
       "      <td>48.0</td>\n",
       "    </tr>\n",
       "    <tr>\n",
       "      <th>98</th>\n",
       "      <td>2012.917</td>\n",
       "      <td>8.9</td>\n",
       "      <td>1406.4300</td>\n",
       "      <td>0.0</td>\n",
       "      <td>-33.47573</td>\n",
       "      <td>-70.62758</td>\n",
       "      <td>48.0</td>\n",
       "    </tr>\n",
       "    <tr>\n",
       "      <th>99</th>\n",
       "      <td>2013.500</td>\n",
       "      <td>32.3</td>\n",
       "      <td>109.9455</td>\n",
       "      <td>10.0</td>\n",
       "      <td>-33.471819999999994</td>\n",
       "      <td>-70.64086</td>\n",
       "      <td>48.0</td>\n",
       "    </tr>\n",
       "  </tbody>\n",
       "</table>\n",
       "<p>100 rows × 7 columns</p>\n",
       "</div>"
      ],
      "text/plain": [
       "       fecha  a_prop     dist_m  t_cerc                  lat      long  uf_m2\n",
       "0   2013.333    10.8   252.5822     1.0   -33.46459999999999 -70.63046  117.5\n",
       "1   2013.333    37.2   186.5101     9.0  -33.467029999999994 -70.64265   78.3\n",
       "2   2013.583    35.4   318.5292     9.0   -33.46070999999999 -70.64069   78.0\n",
       "3   2013.417     0.0   292.9978     6.0            -33.46744 -70.64458   73.6\n",
       "4   2012.833     0.0   292.9978     6.0            -33.46744 -70.64458   71.0\n",
       "..       ...     ...        ...     ...                  ...       ...    ...\n",
       "95  2013.083    13.2   150.9347     7.0  -33.457249999999995 -70.64252   48.1\n",
       "96  2013.333    19.2   383.7129     8.0              -33.462 -70.64477   48.1\n",
       "97  2013.500    13.6   492.2313     5.0            -33.45515 -70.63737   48.0\n",
       "98  2012.917     8.9  1406.4300     0.0            -33.47573 -70.62758   48.0\n",
       "99  2013.500    32.3   109.9455    10.0  -33.471819999999994 -70.64086   48.0\n",
       "\n",
       "[100 rows x 7 columns]"
      ]
     },
     "execution_count": 8,
     "metadata": {},
     "output_type": "execute_result"
    }
   ],
   "source": [
    "df.head(100)"
   ]
  },
  {
   "cell_type": "code",
   "execution_count": 9,
   "id": "862666dd",
   "metadata": {},
   "outputs": [],
   "source": [
    "is_NaN=df.isnull()"
   ]
  },
  {
   "cell_type": "code",
   "execution_count": 10,
   "id": "158f5fd1",
   "metadata": {},
   "outputs": [
    {
     "name": "stdout",
     "output_type": "stream",
     "text": [
      "     fecha  a_prop  dist_m  t_cerc    lat   long  uf_m2\n",
      "0    False   False   False   False  False  False  False\n",
      "1    False   False   False   False  False  False  False\n",
      "2    False   False   False   False  False  False  False\n",
      "3    False   False   False   False  False  False  False\n",
      "4    False   False   False   False  False  False  False\n",
      "..     ...     ...     ...     ...    ...    ...    ...\n",
      "445  False   False   False   False  False  False  False\n",
      "446  False   False   False   False  False  False  False\n",
      "447  False   False   False   False  False  False  False\n",
      "448  False   False   False   False  False  False  False\n",
      "449  False   False   False   False  False  False  False\n",
      "\n",
      "[450 rows x 7 columns]\n"
     ]
    }
   ],
   "source": [
    "print(is_NaN)"
   ]
  },
  {
   "cell_type": "code",
   "execution_count": 11,
   "id": "3e98e5f4",
   "metadata": {},
   "outputs": [],
   "source": [
    "row_has_NaN = is_NaN.any(axis=1)\n",
    "rows_with_NaN = df[row_has_NaN]"
   ]
  },
  {
   "cell_type": "code",
   "execution_count": 12,
   "id": "22fe2929",
   "metadata": {},
   "outputs": [
    {
     "name": "stdout",
     "output_type": "stream",
     "text": [
      "Empty DataFrame\n",
      "Columns: [fecha, a_prop, dist_m, t_cerc, lat, long, uf_m2]\n",
      "Index: []\n"
     ]
    }
   ],
   "source": [
    "print(rows_with_NaN) #comprobamos que no quedaron datos null o nan"
   ]
  },
  {
   "cell_type": "code",
   "execution_count": 13,
   "id": "4f06b155",
   "metadata": {},
   "outputs": [
    {
     "name": "stdout",
     "output_type": "stream",
     "text": [
      "<class 'pandas.core.frame.DataFrame'>\n",
      "Int64Index: 450 entries, 0 to 449\n",
      "Data columns (total 7 columns):\n",
      " #   Column  Non-Null Count  Dtype  \n",
      "---  ------  --------------  -----  \n",
      " 0   fecha   450 non-null    float64\n",
      " 1   a_prop  450 non-null    float64\n",
      " 2   dist_m  450 non-null    float64\n",
      " 3   t_cerc  450 non-null    float64\n",
      " 4   lat     450 non-null    object \n",
      " 5   long    450 non-null    float64\n",
      " 6   uf_m2   450 non-null    float64\n",
      "dtypes: float64(6), object(1)\n",
      "memory usage: 28.1+ KB\n"
     ]
    }
   ],
   "source": [
    "df.info()\n"
   ]
  },
  {
   "cell_type": "code",
   "execution_count": 14,
   "id": "a72e9c92",
   "metadata": {},
   "outputs": [],
   "source": [
    "df['t_cerc'] = df['t_cerc'].astype('int') #cambiamos flotante por entero ya que tiendas cercanas es un valor entero\n",
    "#df['lat'] = df['lat'].astype('float')\n"
   ]
  },
  {
   "cell_type": "code",
   "execution_count": 15,
   "id": "e9398d1a",
   "metadata": {},
   "outputs": [
    {
     "name": "stdout",
     "output_type": "stream",
     "text": [
      "208\n",
      "317\n"
     ]
    }
   ],
   "source": [
    "A=df.loc[:,'lat']\n",
    "for i in range(450):\n",
    "    if A[i]=='nan,':\n",
    "        print(i)\n",
    "#nos percatamos que en variable lat habían datos no numericos que eran string. "
   ]
  },
  {
   "cell_type": "code",
   "execution_count": 16,
   "id": "89142ad6",
   "metadata": {},
   "outputs": [
    {
     "name": "stdout",
     "output_type": "stream",
     "text": [
      "<class 'pandas.core.frame.DataFrame'>\n",
      "Int64Index: 450 entries, 0 to 449\n",
      "Data columns (total 7 columns):\n",
      " #   Column  Non-Null Count  Dtype  \n",
      "---  ------  --------------  -----  \n",
      " 0   fecha   450 non-null    float64\n",
      " 1   a_prop  450 non-null    float64\n",
      " 2   dist_m  450 non-null    float64\n",
      " 3   t_cerc  450 non-null    int32  \n",
      " 4   lat     450 non-null    float64\n",
      " 5   long    450 non-null    float64\n",
      " 6   uf_m2   450 non-null    float64\n",
      "dtypes: float64(6), int32(1)\n",
      "memory usage: 42.5 KB\n"
     ]
    }
   ],
   "source": [
    "df=df.replace(['nan,'],'0') #cambiamos estos datos string a numericos. error de tipeo \n",
    "df['lat'] = df['lat'].astype('float')\n",
    "df.info() #finalmente vemos que nuestros datos están limpios y en el formato necesario"
   ]
  },
  {
   "cell_type": "markdown",
   "id": "a10fa3f1",
   "metadata": {},
   "source": [
    "    2.-Cambio de Formato para la fecha"
   ]
  },
  {
   "cell_type": "code",
   "execution_count": 17,
   "id": "6f3076fd",
   "metadata": {},
   "outputs": [],
   "source": [
    "fecha=df.loc[:,'fecha']"
   ]
  },
  {
   "cell_type": "code",
   "execution_count": 18,
   "id": "abf1f255",
   "metadata": {},
   "outputs": [],
   "source": [
    "year=np.trunc(fecha)\n",
    "year=year.astype(int)\n",
    "meses=(np.modf(df['fecha'])[0]).astype(float)*12\n",
    "#dias=dias.astype(int)\n",
    "df['year']=year\n",
    "#dias[0:40]\n",
    "#meses[0:40]"
   ]
  },
  {
   "cell_type": "code",
   "execution_count": 19,
   "id": "3b0047dd",
   "metadata": {},
   "outputs": [],
   "source": [
    "#df.loc[296] todos sus valores nulos\n",
    "mes=[]\n",
    "dia=[]\n",
    "for i in range(450):\n",
    "    C,D = math.modf(meses[i])\n",
    "    mes.append(D)\n",
    "    \n",
    "    if(mes[i]==1): #enero\n",
    "        dia.append(C*31+1)\n",
    "        \n",
    "    elif (mes[i]==2): #febrero\n",
    "        dia.append(C*28+1)\n",
    "        \n",
    "    elif (mes[i]==3): #marzo\n",
    "        dia.append(C*31+1)\n",
    "    \n",
    "    elif (mes[i]==4): #abril\n",
    "        \n",
    "        dia.append(C*30+1)\n",
    "        \n",
    "    elif (mes[i]==5): #mayo\n",
    "        dia.append(C*31+1)\n",
    "        \n",
    "    elif (mes[i]==6): #junio\n",
    "        dia.append(C*30+1)\n",
    "        \n",
    "    elif (mes[i]==7): #julio\n",
    "        dia.append(C*31+1)\n",
    "        \n",
    "    elif (mes[i]==8): #agosto\n",
    "        dia.append(C*31+1)\n",
    "        \n",
    "    elif (mes[i]==9): #septiembre\n",
    "        dia.append(C*30+1)\n",
    "        \n",
    "    elif (mes[i]==10): #octubre\n",
    "        dia.append(C*31+1)\n",
    "        \n",
    "    elif (mes[i]==11): #noviembre\n",
    "        dia.append(C*30+1)\n",
    "    \n",
    "    elif (mes[i]==12): #diciembre\n",
    "        dia.append(C*31+1)  \n",
    "        \n",
    "    else:\n",
    "        dia.append(0+1)\n",
    "    \n",
    "   \n",
    "        \n"
   ]
  },
  {
   "cell_type": "code",
   "execution_count": 20,
   "id": "097e1002",
   "metadata": {},
   "outputs": [],
   "source": [
    "dia=[int(a) for a in dia]\n",
    "#mes"
   ]
  },
  {
   "cell_type": "code",
   "execution_count": 21,
   "id": "560c9ba1",
   "metadata": {},
   "outputs": [
    {
     "name": "stdout",
     "output_type": "stream",
     "text": [
      "<class 'pandas.core.frame.DataFrame'>\n",
      "Int64Index: 450 entries, 0 to 449\n",
      "Data columns (total 10 columns):\n",
      " #   Column  Non-Null Count  Dtype  \n",
      "---  ------  --------------  -----  \n",
      " 0   fecha   450 non-null    float64\n",
      " 1   a_prop  450 non-null    float64\n",
      " 2   dist_m  450 non-null    float64\n",
      " 3   t_cerc  450 non-null    int32  \n",
      " 4   lat     450 non-null    float64\n",
      " 5   long    450 non-null    float64\n",
      " 6   uf_m2   450 non-null    float64\n",
      " 7   year    450 non-null    int32  \n",
      " 8   mes     450 non-null    int32  \n",
      " 9   dia     450 non-null    int32  \n",
      "dtypes: float64(6), int32(4)\n",
      "memory usage: 47.8 KB\n"
     ]
    }
   ],
   "source": [
    "mes=pd.Series(mes)\n",
    "dia=pd.Series(dia)\n",
    "mes=mes.astype(int)\n",
    "dia=dia.astype(int)\n",
    "df['mes']=mes\n",
    "df['dia']=dia\n",
    "df.info()\n"
   ]
  },
  {
   "cell_type": "code",
   "execution_count": 22,
   "id": "4daf36c1",
   "metadata": {},
   "outputs": [
    {
     "data": {
      "text/html": [
       "<div>\n",
       "<style scoped>\n",
       "    .dataframe tbody tr th:only-of-type {\n",
       "        vertical-align: middle;\n",
       "    }\n",
       "\n",
       "    .dataframe tbody tr th {\n",
       "        vertical-align: top;\n",
       "    }\n",
       "\n",
       "    .dataframe thead th {\n",
       "        text-align: right;\n",
       "    }\n",
       "</style>\n",
       "<table border=\"1\" class=\"dataframe\">\n",
       "  <thead>\n",
       "    <tr style=\"text-align: right;\">\n",
       "      <th></th>\n",
       "      <th>fecha</th>\n",
       "      <th>a_prop</th>\n",
       "      <th>dist_m</th>\n",
       "      <th>t_cerc</th>\n",
       "      <th>lat</th>\n",
       "      <th>long</th>\n",
       "      <th>uf_m2</th>\n",
       "      <th>year</th>\n",
       "      <th>mes</th>\n",
       "      <th>dia</th>\n",
       "    </tr>\n",
       "  </thead>\n",
       "  <tbody>\n",
       "    <tr>\n",
       "      <th>130</th>\n",
       "      <td>2013.500</td>\n",
       "      <td>16.4</td>\n",
       "      <td>3780.5900</td>\n",
       "      <td>0</td>\n",
       "      <td>-33.42293</td>\n",
       "      <td>-70.61203</td>\n",
       "      <td>45.1</td>\n",
       "      <td>2013</td>\n",
       "      <td>6</td>\n",
       "      <td>1</td>\n",
       "    </tr>\n",
       "    <tr>\n",
       "      <th>131</th>\n",
       "      <td>2013.167</td>\n",
       "      <td>1.1</td>\n",
       "      <td>193.5845</td>\n",
       "      <td>6</td>\n",
       "      <td>-33.45571</td>\n",
       "      <td>-70.64089</td>\n",
       "      <td>45.1</td>\n",
       "      <td>2013</td>\n",
       "      <td>2</td>\n",
       "      <td>1</td>\n",
       "    </tr>\n",
       "    <tr>\n",
       "      <th>132</th>\n",
       "      <td>2013.417</td>\n",
       "      <td>0.0</td>\n",
       "      <td>338.9679</td>\n",
       "      <td>9</td>\n",
       "      <td>-33.45853</td>\n",
       "      <td>-70.64413</td>\n",
       "      <td>44.9</td>\n",
       "      <td>2013</td>\n",
       "      <td>5</td>\n",
       "      <td>1</td>\n",
       "    </tr>\n",
       "    <tr>\n",
       "      <th>133</th>\n",
       "      <td>2013.333</td>\n",
       "      <td>4.7</td>\n",
       "      <td>387.7721</td>\n",
       "      <td>9</td>\n",
       "      <td>-33.47118</td>\n",
       "      <td>-70.63788</td>\n",
       "      <td>44.8</td>\n",
       "      <td>2013</td>\n",
       "      <td>3</td>\n",
       "      <td>31</td>\n",
       "    </tr>\n",
       "    <tr>\n",
       "      <th>134</th>\n",
       "      <td>2013.500</td>\n",
       "      <td>4.9</td>\n",
       "      <td>387.7721</td>\n",
       "      <td>9</td>\n",
       "      <td>-33.47118</td>\n",
       "      <td>-70.63788</td>\n",
       "      <td>44.7</td>\n",
       "      <td>2013</td>\n",
       "      <td>6</td>\n",
       "      <td>1</td>\n",
       "    </tr>\n",
       "    <tr>\n",
       "      <th>135</th>\n",
       "      <td>2013.333</td>\n",
       "      <td>13.9</td>\n",
       "      <td>289.3248</td>\n",
       "      <td>5</td>\n",
       "      <td>-33.47203</td>\n",
       "      <td>-70.64348</td>\n",
       "      <td>44.5</td>\n",
       "      <td>2013</td>\n",
       "      <td>3</td>\n",
       "      <td>31</td>\n",
       "    </tr>\n",
       "    <tr>\n",
       "      <th>136</th>\n",
       "      <td>2013.417</td>\n",
       "      <td>40.1</td>\n",
       "      <td>123.7429</td>\n",
       "      <td>8</td>\n",
       "      <td>-33.46635</td>\n",
       "      <td>-70.64329</td>\n",
       "      <td>44.3</td>\n",
       "      <td>2013</td>\n",
       "      <td>5</td>\n",
       "      <td>1</td>\n",
       "    </tr>\n",
       "    <tr>\n",
       "      <th>137</th>\n",
       "      <td>2012.917</td>\n",
       "      <td>34.8</td>\n",
       "      <td>190.0392</td>\n",
       "      <td>8</td>\n",
       "      <td>-33.46707</td>\n",
       "      <td>-70.64312</td>\n",
       "      <td>44.3</td>\n",
       "      <td>2012</td>\n",
       "      <td>11</td>\n",
       "      <td>1</td>\n",
       "    </tr>\n",
       "    <tr>\n",
       "      <th>138</th>\n",
       "      <td>2013.417</td>\n",
       "      <td>21.7</td>\n",
       "      <td>512.5487</td>\n",
       "      <td>4</td>\n",
       "      <td>-33.46400</td>\n",
       "      <td>-70.63842</td>\n",
       "      <td>44.2</td>\n",
       "      <td>2013</td>\n",
       "      <td>5</td>\n",
       "      <td>1</td>\n",
       "    </tr>\n",
       "    <tr>\n",
       "      <th>139</th>\n",
       "      <td>2013.500</td>\n",
       "      <td>14.1</td>\n",
       "      <td>3.0000</td>\n",
       "      <td>500</td>\n",
       "      <td>0.00000</td>\n",
       "      <td>0.00000</td>\n",
       "      <td>44.0</td>\n",
       "      <td>2013</td>\n",
       "      <td>6</td>\n",
       "      <td>1</td>\n",
       "    </tr>\n",
       "    <tr>\n",
       "      <th>140</th>\n",
       "      <td>2012.750</td>\n",
       "      <td>0.0</td>\n",
       "      <td>208.3905</td>\n",
       "      <td>6</td>\n",
       "      <td>-33.44618</td>\n",
       "      <td>-70.63844</td>\n",
       "      <td>44.0</td>\n",
       "      <td>2012</td>\n",
       "      <td>9</td>\n",
       "      <td>1</td>\n",
       "    </tr>\n",
       "    <tr>\n",
       "      <th>141</th>\n",
       "      <td>2013.583</td>\n",
       "      <td>14.1</td>\n",
       "      <td>3.0000</td>\n",
       "      <td>500</td>\n",
       "      <td>0.00000</td>\n",
       "      <td>0.00000</td>\n",
       "      <td>44.0</td>\n",
       "      <td>2013</td>\n",
       "      <td>6</td>\n",
       "      <td>30</td>\n",
       "    </tr>\n",
       "    <tr>\n",
       "      <th>142</th>\n",
       "      <td>2013.250</td>\n",
       "      <td>22.2</td>\n",
       "      <td>379.5575</td>\n",
       "      <td>10</td>\n",
       "      <td>-33.47343</td>\n",
       "      <td>-70.63762</td>\n",
       "      <td>44.0</td>\n",
       "      <td>2013</td>\n",
       "      <td>3</td>\n",
       "      <td>1</td>\n",
       "    </tr>\n",
       "    <tr>\n",
       "      <th>143</th>\n",
       "      <td>2013.250</td>\n",
       "      <td>17.3</td>\n",
       "      <td>444.1334</td>\n",
       "      <td>1</td>\n",
       "      <td>-33.46501</td>\n",
       "      <td>-70.62730</td>\n",
       "      <td>43.9</td>\n",
       "      <td>2013</td>\n",
       "      <td>3</td>\n",
       "      <td>1</td>\n",
       "    </tr>\n",
       "    <tr>\n",
       "      <th>144</th>\n",
       "      <td>2013.417</td>\n",
       "      <td>13.6</td>\n",
       "      <td>492.2313</td>\n",
       "      <td>5</td>\n",
       "      <td>-33.45515</td>\n",
       "      <td>-70.63737</td>\n",
       "      <td>43.8</td>\n",
       "      <td>2013</td>\n",
       "      <td>5</td>\n",
       "      <td>1</td>\n",
       "    </tr>\n",
       "    <tr>\n",
       "      <th>145</th>\n",
       "      <td>2013.083</td>\n",
       "      <td>15.1</td>\n",
       "      <td>383.2805</td>\n",
       "      <td>7</td>\n",
       "      <td>-33.45735</td>\n",
       "      <td>-70.64464</td>\n",
       "      <td>43.7</td>\n",
       "      <td>2013</td>\n",
       "      <td>0</td>\n",
       "      <td>1</td>\n",
       "    </tr>\n",
       "    <tr>\n",
       "      <th>146</th>\n",
       "      <td>2013.167</td>\n",
       "      <td>10.0</td>\n",
       "      <td>942.4664</td>\n",
       "      <td>0</td>\n",
       "      <td>-33.46843</td>\n",
       "      <td>-70.62406</td>\n",
       "      <td>43.5</td>\n",
       "      <td>2013</td>\n",
       "      <td>2</td>\n",
       "      <td>1</td>\n",
       "    </tr>\n",
       "    <tr>\n",
       "      <th>147</th>\n",
       "      <td>2013.083</td>\n",
       "      <td>0.0</td>\n",
       "      <td>274.0144</td>\n",
       "      <td>1</td>\n",
       "      <td>-33.46480</td>\n",
       "      <td>-70.63059</td>\n",
       "      <td>43.5</td>\n",
       "      <td>2013</td>\n",
       "      <td>0</td>\n",
       "      <td>1</td>\n",
       "    </tr>\n",
       "    <tr>\n",
       "      <th>148</th>\n",
       "      <td>2013.417</td>\n",
       "      <td>28.2</td>\n",
       "      <td>330.0854</td>\n",
       "      <td>8</td>\n",
       "      <td>-33.46408</td>\n",
       "      <td>-70.64011</td>\n",
       "      <td>43.4</td>\n",
       "      <td>2013</td>\n",
       "      <td>5</td>\n",
       "      <td>1</td>\n",
       "    </tr>\n",
       "    <tr>\n",
       "      <th>149</th>\n",
       "      <td>2012.750</td>\n",
       "      <td>3.2</td>\n",
       "      <td>489.8821</td>\n",
       "      <td>8</td>\n",
       "      <td>-33.46017</td>\n",
       "      <td>-70.64494</td>\n",
       "      <td>43.2</td>\n",
       "      <td>2012</td>\n",
       "      <td>9</td>\n",
       "      <td>1</td>\n",
       "    </tr>\n",
       "    <tr>\n",
       "      <th>150</th>\n",
       "      <td>2013.250</td>\n",
       "      <td>9.1</td>\n",
       "      <td>1402.0160</td>\n",
       "      <td>0</td>\n",
       "      <td>-33.47569</td>\n",
       "      <td>-70.62760</td>\n",
       "      <td>43.2</td>\n",
       "      <td>2013</td>\n",
       "      <td>3</td>\n",
       "      <td>1</td>\n",
       "    </tr>\n",
       "  </tbody>\n",
       "</table>\n",
       "</div>"
      ],
      "text/plain": [
       "        fecha  a_prop     dist_m  t_cerc       lat      long  uf_m2  year  \\\n",
       "130  2013.500    16.4  3780.5900       0 -33.42293 -70.61203   45.1  2013   \n",
       "131  2013.167     1.1   193.5845       6 -33.45571 -70.64089   45.1  2013   \n",
       "132  2013.417     0.0   338.9679       9 -33.45853 -70.64413   44.9  2013   \n",
       "133  2013.333     4.7   387.7721       9 -33.47118 -70.63788   44.8  2013   \n",
       "134  2013.500     4.9   387.7721       9 -33.47118 -70.63788   44.7  2013   \n",
       "135  2013.333    13.9   289.3248       5 -33.47203 -70.64348   44.5  2013   \n",
       "136  2013.417    40.1   123.7429       8 -33.46635 -70.64329   44.3  2013   \n",
       "137  2012.917    34.8   190.0392       8 -33.46707 -70.64312   44.3  2012   \n",
       "138  2013.417    21.7   512.5487       4 -33.46400 -70.63842   44.2  2013   \n",
       "139  2013.500    14.1     3.0000     500   0.00000   0.00000   44.0  2013   \n",
       "140  2012.750     0.0   208.3905       6 -33.44618 -70.63844   44.0  2012   \n",
       "141  2013.583    14.1     3.0000     500   0.00000   0.00000   44.0  2013   \n",
       "142  2013.250    22.2   379.5575      10 -33.47343 -70.63762   44.0  2013   \n",
       "143  2013.250    17.3   444.1334       1 -33.46501 -70.62730   43.9  2013   \n",
       "144  2013.417    13.6   492.2313       5 -33.45515 -70.63737   43.8  2013   \n",
       "145  2013.083    15.1   383.2805       7 -33.45735 -70.64464   43.7  2013   \n",
       "146  2013.167    10.0   942.4664       0 -33.46843 -70.62406   43.5  2013   \n",
       "147  2013.083     0.0   274.0144       1 -33.46480 -70.63059   43.5  2013   \n",
       "148  2013.417    28.2   330.0854       8 -33.46408 -70.64011   43.4  2013   \n",
       "149  2012.750     3.2   489.8821       8 -33.46017 -70.64494   43.2  2012   \n",
       "150  2013.250     9.1  1402.0160       0 -33.47569 -70.62760   43.2  2013   \n",
       "\n",
       "     mes  dia  \n",
       "130    6    1  \n",
       "131    2    1  \n",
       "132    5    1  \n",
       "133    3   31  \n",
       "134    6    1  \n",
       "135    3   31  \n",
       "136    5    1  \n",
       "137   11    1  \n",
       "138    5    1  \n",
       "139    6    1  \n",
       "140    9    1  \n",
       "141    6   30  \n",
       "142    3    1  \n",
       "143    3    1  \n",
       "144    5    1  \n",
       "145    0    1  \n",
       "146    2    1  \n",
       "147    0    1  \n",
       "148    5    1  \n",
       "149    9    1  \n",
       "150    3    1  "
      ]
     },
     "execution_count": 22,
     "metadata": {},
     "output_type": "execute_result"
    }
   ],
   "source": [
    "df.loc[130:150]"
   ]
  },
  {
   "cell_type": "code",
   "execution_count": 23,
   "id": "1964f726",
   "metadata": {},
   "outputs": [
    {
     "data": {
      "text/html": [
       "<div>\n",
       "<style scoped>\n",
       "    .dataframe tbody tr th:only-of-type {\n",
       "        vertical-align: middle;\n",
       "    }\n",
       "\n",
       "    .dataframe tbody tr th {\n",
       "        vertical-align: top;\n",
       "    }\n",
       "\n",
       "    .dataframe thead th {\n",
       "        text-align: right;\n",
       "    }\n",
       "</style>\n",
       "<table border=\"1\" class=\"dataframe\">\n",
       "  <thead>\n",
       "    <tr style=\"text-align: right;\">\n",
       "      <th></th>\n",
       "      <th>a_prop</th>\n",
       "      <th>dist_m</th>\n",
       "      <th>t_cerc</th>\n",
       "      <th>lat</th>\n",
       "      <th>long</th>\n",
       "      <th>uf_m2</th>\n",
       "      <th>year</th>\n",
       "      <th>mes</th>\n",
       "      <th>dia</th>\n",
       "    </tr>\n",
       "  </thead>\n",
       "  <tbody>\n",
       "    <tr>\n",
       "      <th>0</th>\n",
       "      <td>10.8</td>\n",
       "      <td>252.58220</td>\n",
       "      <td>1</td>\n",
       "      <td>-33.46460</td>\n",
       "      <td>-70.63046</td>\n",
       "      <td>117.5</td>\n",
       "      <td>2013</td>\n",
       "      <td>3</td>\n",
       "      <td>31</td>\n",
       "    </tr>\n",
       "    <tr>\n",
       "      <th>1</th>\n",
       "      <td>37.2</td>\n",
       "      <td>186.51010</td>\n",
       "      <td>9</td>\n",
       "      <td>-33.46703</td>\n",
       "      <td>-70.64265</td>\n",
       "      <td>78.3</td>\n",
       "      <td>2013</td>\n",
       "      <td>3</td>\n",
       "      <td>31</td>\n",
       "    </tr>\n",
       "    <tr>\n",
       "      <th>2</th>\n",
       "      <td>35.4</td>\n",
       "      <td>318.52920</td>\n",
       "      <td>9</td>\n",
       "      <td>-33.46071</td>\n",
       "      <td>-70.64069</td>\n",
       "      <td>78.0</td>\n",
       "      <td>2013</td>\n",
       "      <td>6</td>\n",
       "      <td>30</td>\n",
       "    </tr>\n",
       "    <tr>\n",
       "      <th>3</th>\n",
       "      <td>0.0</td>\n",
       "      <td>292.99780</td>\n",
       "      <td>6</td>\n",
       "      <td>-33.46744</td>\n",
       "      <td>-70.64458</td>\n",
       "      <td>73.6</td>\n",
       "      <td>2013</td>\n",
       "      <td>5</td>\n",
       "      <td>1</td>\n",
       "    </tr>\n",
       "    <tr>\n",
       "      <th>4</th>\n",
       "      <td>0.0</td>\n",
       "      <td>292.99780</td>\n",
       "      <td>6</td>\n",
       "      <td>-33.46744</td>\n",
       "      <td>-70.64458</td>\n",
       "      <td>71.0</td>\n",
       "      <td>2012</td>\n",
       "      <td>9</td>\n",
       "      <td>30</td>\n",
       "    </tr>\n",
       "    <tr>\n",
       "      <th>5</th>\n",
       "      <td>0.0</td>\n",
       "      <td>292.99780</td>\n",
       "      <td>6</td>\n",
       "      <td>-33.46744</td>\n",
       "      <td>-70.64458</td>\n",
       "      <td>70.1</td>\n",
       "      <td>2013</td>\n",
       "      <td>3</td>\n",
       "      <td>1</td>\n",
       "    </tr>\n",
       "    <tr>\n",
       "      <th>6</th>\n",
       "      <td>0.0</td>\n",
       "      <td>292.99780</td>\n",
       "      <td>6</td>\n",
       "      <td>-33.46744</td>\n",
       "      <td>-70.64458</td>\n",
       "      <td>69.7</td>\n",
       "      <td>2013</td>\n",
       "      <td>3</td>\n",
       "      <td>31</td>\n",
       "    </tr>\n",
       "    <tr>\n",
       "      <th>7</th>\n",
       "      <td>40.9</td>\n",
       "      <td>122.36190</td>\n",
       "      <td>8</td>\n",
       "      <td>-33.45756</td>\n",
       "      <td>-70.64230</td>\n",
       "      <td>67.7</td>\n",
       "      <td>2013</td>\n",
       "      <td>3</td>\n",
       "      <td>1</td>\n",
       "    </tr>\n",
       "    <tr>\n",
       "      <th>8</th>\n",
       "      <td>15.3</td>\n",
       "      <td>370.00000</td>\n",
       "      <td>1</td>\n",
       "      <td>0.00000</td>\n",
       "      <td>0.00000</td>\n",
       "      <td>66.0</td>\n",
       "      <td>2013</td>\n",
       "      <td>6</td>\n",
       "      <td>1</td>\n",
       "    </tr>\n",
       "    <tr>\n",
       "      <th>9</th>\n",
       "      <td>15.3</td>\n",
       "      <td>370.00000</td>\n",
       "      <td>1</td>\n",
       "      <td>0.00000</td>\n",
       "      <td>0.00000</td>\n",
       "      <td>66.0</td>\n",
       "      <td>2012</td>\n",
       "      <td>9</td>\n",
       "      <td>30</td>\n",
       "    </tr>\n",
       "    <tr>\n",
       "      <th>10</th>\n",
       "      <td>6.5</td>\n",
       "      <td>90.45606</td>\n",
       "      <td>9</td>\n",
       "      <td>-33.46433</td>\n",
       "      <td>-70.64310</td>\n",
       "      <td>63.9</td>\n",
       "      <td>2013</td>\n",
       "      <td>6</td>\n",
       "      <td>1</td>\n",
       "    </tr>\n",
       "    <tr>\n",
       "      <th>11</th>\n",
       "      <td>0.0</td>\n",
       "      <td>292.99780</td>\n",
       "      <td>6</td>\n",
       "      <td>-33.46744</td>\n",
       "      <td>-70.64458</td>\n",
       "      <td>63.3</td>\n",
       "      <td>2013</td>\n",
       "      <td>5</td>\n",
       "      <td>1</td>\n",
       "    </tr>\n",
       "    <tr>\n",
       "      <th>12</th>\n",
       "      <td>41.4</td>\n",
       "      <td>281.20500</td>\n",
       "      <td>8</td>\n",
       "      <td>-33.46345</td>\n",
       "      <td>-70.64093</td>\n",
       "      <td>63.3</td>\n",
       "      <td>2013</td>\n",
       "      <td>0</td>\n",
       "      <td>1</td>\n",
       "    </tr>\n",
       "    <tr>\n",
       "      <th>13</th>\n",
       "      <td>5.3</td>\n",
       "      <td>259.66070</td>\n",
       "      <td>6</td>\n",
       "      <td>-33.46585</td>\n",
       "      <td>-70.64516</td>\n",
       "      <td>63.2</td>\n",
       "      <td>2013</td>\n",
       "      <td>6</td>\n",
       "      <td>1</td>\n",
       "    </tr>\n",
       "    <tr>\n",
       "      <th>14</th>\n",
       "      <td>38.6</td>\n",
       "      <td>804.68970</td>\n",
       "      <td>4</td>\n",
       "      <td>-33.46838</td>\n",
       "      <td>-70.63477</td>\n",
       "      <td>62.9</td>\n",
       "      <td>2013</td>\n",
       "      <td>0</td>\n",
       "      <td>1</td>\n",
       "    </tr>\n",
       "    <tr>\n",
       "      <th>15</th>\n",
       "      <td>6.4</td>\n",
       "      <td>90.45606</td>\n",
       "      <td>9</td>\n",
       "      <td>-33.46433</td>\n",
       "      <td>-70.64310</td>\n",
       "      <td>62.2</td>\n",
       "      <td>2013</td>\n",
       "      <td>5</td>\n",
       "      <td>1</td>\n",
       "    </tr>\n",
       "    <tr>\n",
       "      <th>16</th>\n",
       "      <td>6.4</td>\n",
       "      <td>90.45606</td>\n",
       "      <td>9</td>\n",
       "      <td>-33.46433</td>\n",
       "      <td>-70.64310</td>\n",
       "      <td>62.2</td>\n",
       "      <td>2013</td>\n",
       "      <td>5</td>\n",
       "      <td>1</td>\n",
       "    </tr>\n",
       "    <tr>\n",
       "      <th>17</th>\n",
       "      <td>4.1</td>\n",
       "      <td>56.47425</td>\n",
       "      <td>7</td>\n",
       "      <td>-33.44744</td>\n",
       "      <td>-70.63711</td>\n",
       "      <td>62.1</td>\n",
       "      <td>2013</td>\n",
       "      <td>6</td>\n",
       "      <td>1</td>\n",
       "    </tr>\n",
       "    <tr>\n",
       "      <th>18</th>\n",
       "      <td>3.6</td>\n",
       "      <td>373.83890</td>\n",
       "      <td>10</td>\n",
       "      <td>-33.47322</td>\n",
       "      <td>-70.63765</td>\n",
       "      <td>61.9</td>\n",
       "      <td>2013</td>\n",
       "      <td>2</td>\n",
       "      <td>1</td>\n",
       "    </tr>\n",
       "    <tr>\n",
       "      <th>19</th>\n",
       "      <td>35.9</td>\n",
       "      <td>640.73910</td>\n",
       "      <td>3</td>\n",
       "      <td>-33.46563</td>\n",
       "      <td>-70.63715</td>\n",
       "      <td>61.5</td>\n",
       "      <td>2013</td>\n",
       "      <td>6</td>\n",
       "      <td>30</td>\n",
       "    </tr>\n",
       "  </tbody>\n",
       "</table>\n",
       "</div>"
      ],
      "text/plain": [
       "    a_prop     dist_m  t_cerc       lat      long  uf_m2  year  mes  dia\n",
       "0     10.8  252.58220       1 -33.46460 -70.63046  117.5  2013    3   31\n",
       "1     37.2  186.51010       9 -33.46703 -70.64265   78.3  2013    3   31\n",
       "2     35.4  318.52920       9 -33.46071 -70.64069   78.0  2013    6   30\n",
       "3      0.0  292.99780       6 -33.46744 -70.64458   73.6  2013    5    1\n",
       "4      0.0  292.99780       6 -33.46744 -70.64458   71.0  2012    9   30\n",
       "5      0.0  292.99780       6 -33.46744 -70.64458   70.1  2013    3    1\n",
       "6      0.0  292.99780       6 -33.46744 -70.64458   69.7  2013    3   31\n",
       "7     40.9  122.36190       8 -33.45756 -70.64230   67.7  2013    3    1\n",
       "8     15.3  370.00000       1   0.00000   0.00000   66.0  2013    6    1\n",
       "9     15.3  370.00000       1   0.00000   0.00000   66.0  2012    9   30\n",
       "10     6.5   90.45606       9 -33.46433 -70.64310   63.9  2013    6    1\n",
       "11     0.0  292.99780       6 -33.46744 -70.64458   63.3  2013    5    1\n",
       "12    41.4  281.20500       8 -33.46345 -70.64093   63.3  2013    0    1\n",
       "13     5.3  259.66070       6 -33.46585 -70.64516   63.2  2013    6    1\n",
       "14    38.6  804.68970       4 -33.46838 -70.63477   62.9  2013    0    1\n",
       "15     6.4   90.45606       9 -33.46433 -70.64310   62.2  2013    5    1\n",
       "16     6.4   90.45606       9 -33.46433 -70.64310   62.2  2013    5    1\n",
       "17     4.1   56.47425       7 -33.44744 -70.63711   62.1  2013    6    1\n",
       "18     3.6  373.83890      10 -33.47322 -70.63765   61.9  2013    2    1\n",
       "19    35.9  640.73910       3 -33.46563 -70.63715   61.5  2013    6   30"
      ]
     },
     "execution_count": 23,
     "metadata": {},
     "output_type": "execute_result"
    }
   ],
   "source": [
    "df= df.drop(['fecha'], axis=1) #quitamos fecha que ya está agregada en columnas\n",
    "df=df.drop(labels=296,axis=0) #  eliminamos el registro que consta de ceros excepto en target\n",
    "df.head(20)"
   ]
  },
  {
   "cell_type": "code",
   "execution_count": 24,
   "id": "7428cc29",
   "metadata": {},
   "outputs": [
    {
     "data": {
      "text/plain": [
       "<AxesSubplot:>"
      ]
     },
     "execution_count": 24,
     "metadata": {},
     "output_type": "execute_result"
    },
    {
     "data": {
      "image/png": "[encoded data removed]",
      "text/plain": [
       "<Figure size 432x288 with 1 Axes>"
      ]
     },
     "metadata": {
      "needs_background": "light"
     },
     "output_type": "display_data"
    }
   ],
   "source": [
    "df['uf_m2'].hist() # hay valores que pueden afectar la regresión"
   ]
  },
  {
   "cell_type": "code",
   "execution_count": 25,
   "id": "95343fb8",
   "metadata": {},
   "outputs": [
    {
     "data": {
      "text/html": [
       "<div>\n",
       "<style scoped>\n",
       "    .dataframe tbody tr th:only-of-type {\n",
       "        vertical-align: middle;\n",
       "    }\n",
       "\n",
       "    .dataframe tbody tr th {\n",
       "        vertical-align: top;\n",
       "    }\n",
       "\n",
       "    .dataframe thead th {\n",
       "        text-align: right;\n",
       "    }\n",
       "</style>\n",
       "<table border=\"1\" class=\"dataframe\">\n",
       "  <thead>\n",
       "    <tr style=\"text-align: right;\">\n",
       "      <th></th>\n",
       "      <th>a_prop</th>\n",
       "      <th>dist_m</th>\n",
       "      <th>t_cerc</th>\n",
       "      <th>lat</th>\n",
       "      <th>long</th>\n",
       "      <th>uf_m2</th>\n",
       "      <th>year</th>\n",
       "      <th>mes</th>\n",
       "      <th>dia</th>\n",
       "    </tr>\n",
       "  </thead>\n",
       "  <tbody>\n",
       "    <tr>\n",
       "      <th>0</th>\n",
       "      <td>10.8</td>\n",
       "      <td>252.5822</td>\n",
       "      <td>1</td>\n",
       "      <td>-33.4646</td>\n",
       "      <td>-70.63046</td>\n",
       "      <td>117.5</td>\n",
       "      <td>2013</td>\n",
       "      <td>3</td>\n",
       "      <td>31</td>\n",
       "    </tr>\n",
       "  </tbody>\n",
       "</table>\n",
       "</div>"
      ],
      "text/plain": [
       "   a_prop    dist_m  t_cerc      lat      long  uf_m2  year  mes  dia\n",
       "0    10.8  252.5822       1 -33.4646 -70.63046  117.5  2013    3   31"
      ]
     },
     "execution_count": 25,
     "metadata": {},
     "output_type": "execute_result"
    }
   ],
   "source": [
    "df[df['uf_m2']>90]\n",
    " # corresponde a un único registro por lo que lo eliminamos (outlier).\n"
   ]
  },
  {
   "cell_type": "code",
   "execution_count": 26,
   "id": "3537c924",
   "metadata": {},
   "outputs": [],
   "source": [
    "df=df[df['uf_m2']<90] #es eliminado ese registro outlier con esta condicion"
   ]
  },
  {
   "cell_type": "code",
   "execution_count": 27,
   "id": "cc520829",
   "metadata": {},
   "outputs": [
    {
     "data": {
      "text/plain": [
       "<AxesSubplot:>"
      ]
     },
     "execution_count": 27,
     "metadata": {},
     "output_type": "execute_result"
    },
    {
     "data": {
      "image/png": "[encoded data removed]",
      "text/plain": [
       "<Figure size 432x288 with 1 Axes>"
      ]
     },
     "metadata": {
      "needs_background": "light"
     },
     "output_type": "display_data"
    }
   ],
   "source": [
    "df['uf_m2'].hist() "
   ]
  },
  {
   "cell_type": "code",
   "execution_count": 28,
   "id": "588b20df",
   "metadata": {},
   "outputs": [],
   "source": [
    "#df.loc[296] # registro con index 296 tiene todos sus valores nulos,\n",
    "# exceptuando el precio m2, por lo que eliminamos el registro"
   ]
  },
  {
   "cell_type": "code",
   "execution_count": 29,
   "id": "a35b6752",
   "metadata": {
    "scrolled": true
   },
   "outputs": [
    {
     "data": {
      "text/plain": [
       "<AxesSubplot:>"
      ]
     },
     "execution_count": 29,
     "metadata": {},
     "output_type": "execute_result"
    },
    {
     "data": {
      "image/png": "[encoded data removed]",
      "text/plain": [
       "<Figure size 432x288 with 1 Axes>"
      ]
     },
     "metadata": {
      "needs_background": "light"
     },
     "output_type": "display_data"
    }
   ],
   "source": [
    "df['a_prop'].hist()"
   ]
  },
  {
   "cell_type": "code",
   "execution_count": 30,
   "id": "c138546b",
   "metadata": {},
   "outputs": [
    {
     "data": {
      "text/html": [
       "<div>\n",
       "<style scoped>\n",
       "    .dataframe tbody tr th:only-of-type {\n",
       "        vertical-align: middle;\n",
       "    }\n",
       "\n",
       "    .dataframe tbody tr th {\n",
       "        vertical-align: top;\n",
       "    }\n",
       "\n",
       "    .dataframe thead th {\n",
       "        text-align: right;\n",
       "    }\n",
       "</style>\n",
       "<table border=\"1\" class=\"dataframe\">\n",
       "  <thead>\n",
       "    <tr style=\"text-align: right;\">\n",
       "      <th></th>\n",
       "      <th>a_prop</th>\n",
       "      <th>dist_m</th>\n",
       "      <th>t_cerc</th>\n",
       "      <th>lat</th>\n",
       "      <th>long</th>\n",
       "      <th>uf_m2</th>\n",
       "      <th>year</th>\n",
       "      <th>mes</th>\n",
       "      <th>dia</th>\n",
       "    </tr>\n",
       "  </thead>\n",
       "  <tbody>\n",
       "    <tr>\n",
       "      <th>417</th>\n",
       "      <td>31.7</td>\n",
       "      <td>5512.038</td>\n",
       "      <td>1</td>\n",
       "      <td>-33.44095</td>\n",
       "      <td>-70.58458</td>\n",
       "      <td>18.8</td>\n",
       "      <td>2013</td>\n",
       "      <td>6</td>\n",
       "      <td>1</td>\n",
       "    </tr>\n",
       "    <tr>\n",
       "      <th>424</th>\n",
       "      <td>31.5</td>\n",
       "      <td>5512.038</td>\n",
       "      <td>1</td>\n",
       "      <td>-33.44095</td>\n",
       "      <td>-70.58458</td>\n",
       "      <td>17.4</td>\n",
       "      <td>2013</td>\n",
       "      <td>5</td>\n",
       "      <td>1</td>\n",
       "    </tr>\n",
       "    <tr>\n",
       "      <th>432</th>\n",
       "      <td>18.0</td>\n",
       "      <td>6306.153</td>\n",
       "      <td>1</td>\n",
       "      <td>-33.44743</td>\n",
       "      <td>-70.57516</td>\n",
       "      <td>15.0</td>\n",
       "      <td>2012</td>\n",
       "      <td>9</td>\n",
       "      <td>30</td>\n",
       "    </tr>\n",
       "    <tr>\n",
       "      <th>446</th>\n",
       "      <td>30.9</td>\n",
       "      <td>6396.283</td>\n",
       "      <td>1</td>\n",
       "      <td>-33.43375</td>\n",
       "      <td>-70.57883</td>\n",
       "      <td>12.2</td>\n",
       "      <td>2013</td>\n",
       "      <td>0</td>\n",
       "      <td>1</td>\n",
       "    </tr>\n",
       "    <tr>\n",
       "      <th>448</th>\n",
       "      <td>17.4</td>\n",
       "      <td>6488.021</td>\n",
       "      <td>1</td>\n",
       "      <td>-33.44719</td>\n",
       "      <td>-70.57353</td>\n",
       "      <td>11.2</td>\n",
       "      <td>2013</td>\n",
       "      <td>6</td>\n",
       "      <td>30</td>\n",
       "    </tr>\n",
       "  </tbody>\n",
       "</table>\n",
       "</div>"
      ],
      "text/plain": [
       "     a_prop    dist_m  t_cerc       lat      long  uf_m2  year  mes  dia\n",
       "417    31.7  5512.038       1 -33.44095 -70.58458   18.8  2013    6    1\n",
       "424    31.5  5512.038       1 -33.44095 -70.58458   17.4  2013    5    1\n",
       "432    18.0  6306.153       1 -33.44743 -70.57516   15.0  2012    9   30\n",
       "446    30.9  6396.283       1 -33.43375 -70.57883   12.2  2013    0    1\n",
       "448    17.4  6488.021       1 -33.44719 -70.57353   11.2  2013    6   30"
      ]
     },
     "execution_count": 30,
     "metadata": {},
     "output_type": "execute_result"
    },
    {
     "data": {
      "image/png": "[encoded data removed]",
      "text/plain": [
       "<Figure size 432x288 with 1 Axes>"
      ]
     },
     "metadata": {
      "needs_background": "light"
     },
     "output_type": "display_data"
    }
   ],
   "source": [
    "df['dist_m'].hist()\n",
    "a=df[df['dist_m']>5000]\n",
    "a"
   ]
  },
  {
   "cell_type": "code",
   "execution_count": 31,
   "id": "f2eb3c8f",
   "metadata": {},
   "outputs": [
    {
     "data": {
      "text/plain": [
       "<AxesSubplot:>"
      ]
     },
     "execution_count": 31,
     "metadata": {},
     "output_type": "execute_result"
    },
    {
     "data": {
      "image/png": "[encoded data removed]",
      "text/plain": [
       "<Figure size 432x288 with 1 Axes>"
      ]
     },
     "metadata": {
      "needs_background": "light"
     },
     "output_type": "display_data"
    }
   ],
   "source": [
    "df=df[df['dist_m']<5000]\n",
    "df['dist_m'].hist()"
   ]
  },
  {
   "cell_type": "code",
   "execution_count": 32,
   "id": "5d4f5d28",
   "metadata": {},
   "outputs": [
    {
     "data": {
      "image/png": "[encoded data removed]",
      "text/plain": [
       "<Figure size 432x288 with 1 Axes>"
      ]
     },
     "metadata": {
      "needs_background": "light"
     },
     "output_type": "display_data"
    }
   ],
   "source": [
    "df['t_cerc'].hist()\n",
    "a=df[df['t_cerc']>100]\n"
   ]
  },
  {
   "cell_type": "code",
   "execution_count": 33,
   "id": "d6ae7d67",
   "metadata": {},
   "outputs": [
    {
     "data": {
      "text/plain": [
       "<AxesSubplot:>"
      ]
     },
     "execution_count": 33,
     "metadata": {},
     "output_type": "execute_result"
    },
    {
     "data": {
      "image/png": "[encoded data removed]",
      "text/plain": [
       "<Figure size 432x288 with 1 Axes>"
      ]
     },
     "metadata": {
      "needs_background": "light"
     },
     "output_type": "display_data"
    }
   ],
   "source": [
    "df=df[df['t_cerc']<100]\n",
    "df['t_cerc'].hist()"
   ]
  },
  {
   "cell_type": "code",
   "execution_count": 34,
   "id": "5bc35827",
   "metadata": {},
   "outputs": [
    {
     "data": {
      "text/html": [
       "<div>\n",
       "<style scoped>\n",
       "    .dataframe tbody tr th:only-of-type {\n",
       "        vertical-align: middle;\n",
       "    }\n",
       "\n",
       "    .dataframe tbody tr th {\n",
       "        vertical-align: top;\n",
       "    }\n",
       "\n",
       "    .dataframe thead th {\n",
       "        text-align: right;\n",
       "    }\n",
       "</style>\n",
       "<table border=\"1\" class=\"dataframe\">\n",
       "  <thead>\n",
       "    <tr style=\"text-align: right;\">\n",
       "      <th></th>\n",
       "      <th>a_prop</th>\n",
       "      <th>dist_m</th>\n",
       "      <th>t_cerc</th>\n",
       "      <th>lat</th>\n",
       "      <th>long</th>\n",
       "      <th>uf_m2</th>\n",
       "      <th>year</th>\n",
       "      <th>mes</th>\n",
       "      <th>dia</th>\n",
       "    </tr>\n",
       "  </thead>\n",
       "  <tbody>\n",
       "    <tr>\n",
       "      <th>1</th>\n",
       "      <td>37.2</td>\n",
       "      <td>186.5101</td>\n",
       "      <td>9</td>\n",
       "      <td>-33.46703</td>\n",
       "      <td>-70.64265</td>\n",
       "      <td>78.3</td>\n",
       "      <td>2013</td>\n",
       "      <td>3</td>\n",
       "      <td>31</td>\n",
       "    </tr>\n",
       "    <tr>\n",
       "      <th>2</th>\n",
       "      <td>35.4</td>\n",
       "      <td>318.5292</td>\n",
       "      <td>9</td>\n",
       "      <td>-33.46071</td>\n",
       "      <td>-70.64069</td>\n",
       "      <td>78.0</td>\n",
       "      <td>2013</td>\n",
       "      <td>6</td>\n",
       "      <td>30</td>\n",
       "    </tr>\n",
       "    <tr>\n",
       "      <th>3</th>\n",
       "      <td>0.0</td>\n",
       "      <td>292.9978</td>\n",
       "      <td>6</td>\n",
       "      <td>-33.46744</td>\n",
       "      <td>-70.64458</td>\n",
       "      <td>73.6</td>\n",
       "      <td>2013</td>\n",
       "      <td>5</td>\n",
       "      <td>1</td>\n",
       "    </tr>\n",
       "    <tr>\n",
       "      <th>4</th>\n",
       "      <td>0.0</td>\n",
       "      <td>292.9978</td>\n",
       "      <td>6</td>\n",
       "      <td>-33.46744</td>\n",
       "      <td>-70.64458</td>\n",
       "      <td>71.0</td>\n",
       "      <td>2012</td>\n",
       "      <td>9</td>\n",
       "      <td>30</td>\n",
       "    </tr>\n",
       "    <tr>\n",
       "      <th>5</th>\n",
       "      <td>0.0</td>\n",
       "      <td>292.9978</td>\n",
       "      <td>6</td>\n",
       "      <td>-33.46744</td>\n",
       "      <td>-70.64458</td>\n",
       "      <td>70.1</td>\n",
       "      <td>2013</td>\n",
       "      <td>3</td>\n",
       "      <td>1</td>\n",
       "    </tr>\n",
       "    <tr>\n",
       "      <th>...</th>\n",
       "      <td>...</td>\n",
       "      <td>...</td>\n",
       "      <td>...</td>\n",
       "      <td>...</td>\n",
       "      <td>...</td>\n",
       "      <td>...</td>\n",
       "      <td>...</td>\n",
       "      <td>...</td>\n",
       "      <td>...</td>\n",
       "    </tr>\n",
       "    <tr>\n",
       "      <th>443</th>\n",
       "      <td>16.1</td>\n",
       "      <td>4066.5870</td>\n",
       "      <td>0</td>\n",
       "      <td>-33.43297</td>\n",
       "      <td>-70.60342</td>\n",
       "      <td>12.9</td>\n",
       "      <td>2012</td>\n",
       "      <td>9</td>\n",
       "      <td>1</td>\n",
       "    </tr>\n",
       "    <tr>\n",
       "      <th>444</th>\n",
       "      <td>32.0</td>\n",
       "      <td>1156.7770</td>\n",
       "      <td>0</td>\n",
       "      <td>-33.43935</td>\n",
       "      <td>-70.63046</td>\n",
       "      <td>12.8</td>\n",
       "      <td>2013</td>\n",
       "      <td>0</td>\n",
       "      <td>1</td>\n",
       "    </tr>\n",
       "    <tr>\n",
       "      <th>445</th>\n",
       "      <td>16.5</td>\n",
       "      <td>4082.0150</td>\n",
       "      <td>0</td>\n",
       "      <td>-33.43155</td>\n",
       "      <td>-70.60381</td>\n",
       "      <td>12.8</td>\n",
       "      <td>2013</td>\n",
       "      <td>0</td>\n",
       "      <td>1</td>\n",
       "    </tr>\n",
       "    <tr>\n",
       "      <th>447</th>\n",
       "      <td>16.0</td>\n",
       "      <td>4066.5870</td>\n",
       "      <td>0</td>\n",
       "      <td>-33.43297</td>\n",
       "      <td>-70.60342</td>\n",
       "      <td>11.6</td>\n",
       "      <td>2012</td>\n",
       "      <td>9</td>\n",
       "      <td>1</td>\n",
       "    </tr>\n",
       "    <tr>\n",
       "      <th>449</th>\n",
       "      <td>14.8</td>\n",
       "      <td>393.2606</td>\n",
       "      <td>6</td>\n",
       "      <td>-33.45172</td>\n",
       "      <td>-70.63812</td>\n",
       "      <td>7.6</td>\n",
       "      <td>2013</td>\n",
       "      <td>3</td>\n",
       "      <td>31</td>\n",
       "    </tr>\n",
       "  </tbody>\n",
       "</table>\n",
       "<p>420 rows × 9 columns</p>\n",
       "</div>"
      ],
      "text/plain": [
       "     a_prop     dist_m  t_cerc       lat      long  uf_m2  year  mes  dia\n",
       "1      37.2   186.5101       9 -33.46703 -70.64265   78.3  2013    3   31\n",
       "2      35.4   318.5292       9 -33.46071 -70.64069   78.0  2013    6   30\n",
       "3       0.0   292.9978       6 -33.46744 -70.64458   73.6  2013    5    1\n",
       "4       0.0   292.9978       6 -33.46744 -70.64458   71.0  2012    9   30\n",
       "5       0.0   292.9978       6 -33.46744 -70.64458   70.1  2013    3    1\n",
       "..      ...        ...     ...       ...       ...    ...   ...  ...  ...\n",
       "443    16.1  4066.5870       0 -33.43297 -70.60342   12.9  2012    9    1\n",
       "444    32.0  1156.7770       0 -33.43935 -70.63046   12.8  2013    0    1\n",
       "445    16.5  4082.0150       0 -33.43155 -70.60381   12.8  2013    0    1\n",
       "447    16.0  4066.5870       0 -33.43297 -70.60342   11.6  2012    9    1\n",
       "449    14.8   393.2606       6 -33.45172 -70.63812    7.6  2013    3   31\n",
       "\n",
       "[420 rows x 9 columns]"
      ]
     },
     "execution_count": 34,
     "metadata": {},
     "output_type": "execute_result"
    },
    {
     "data": {
      "image/png": "[encoded data removed]",
      "text/plain": [
       "<Figure size 432x288 with 1 Axes>"
      ]
     },
     "metadata": {
      "needs_background": "light"
     },
     "output_type": "display_data"
    }
   ],
   "source": [
    "df['lat'].hist()\n",
    "a=df[df['lat']<0]\n",
    "a"
   ]
  },
  {
   "cell_type": "code",
   "execution_count": 35,
   "id": "df8bb0b3",
   "metadata": {},
   "outputs": [
    {
     "data": {
      "image/png": "[encoded data removed]",
      "text/plain": [
       "<Figure size 432x288 with 1 Axes>"
      ]
     },
     "metadata": {
      "needs_background": "light"
     },
     "output_type": "display_data"
    }
   ],
   "source": [
    "a['lat'].hist()\n",
    "df=df[df['lat']<0]"
   ]
  },
  {
   "cell_type": "code",
   "execution_count": 36,
   "id": "f86303af",
   "metadata": {},
   "outputs": [
    {
     "data": {
      "text/plain": [
       "<AxesSubplot:>"
      ]
     },
     "execution_count": 36,
     "metadata": {},
     "output_type": "execute_result"
    },
    {
     "data": {
      "image/png": "[encoded data removed]",
      "text/plain": [
       "<Figure size 432x288 with 1 Axes>"
      ]
     },
     "metadata": {
      "needs_background": "light"
     },
     "output_type": "display_data"
    }
   ],
   "source": [
    "df['long'].hist()\n",
    "#a=df[df['long']<0]\n",
    "#a"
   ]
  },
  {
   "cell_type": "code",
   "execution_count": 37,
   "id": "f464b4db",
   "metadata": {},
   "outputs": [
    {
     "data": {
      "text/plain": [
       "<AxesSubplot:>"
      ]
     },
     "execution_count": 37,
     "metadata": {},
     "output_type": "execute_result"
    },
    {
     "data": {
      "image/png": "[encoded data removed]",
      "text/plain": [
       "<Figure size 432x288 with 1 Axes>"
      ]
     },
     "metadata": {
      "needs_background": "light"
     },
     "output_type": "display_data"
    }
   ],
   "source": [
    "df['year'].hist()"
   ]
  },
  {
   "cell_type": "code",
   "execution_count": 38,
   "id": "b69ee3b4",
   "metadata": {},
   "outputs": [
    {
     "data": {
      "text/html": [
       "<div>\n",
       "<style scoped>\n",
       "    .dataframe tbody tr th:only-of-type {\n",
       "        vertical-align: middle;\n",
       "    }\n",
       "\n",
       "    .dataframe tbody tr th {\n",
       "        vertical-align: top;\n",
       "    }\n",
       "\n",
       "    .dataframe thead th {\n",
       "        text-align: right;\n",
       "    }\n",
       "</style>\n",
       "<table border=\"1\" class=\"dataframe\">\n",
       "  <thead>\n",
       "    <tr style=\"text-align: right;\">\n",
       "      <th></th>\n",
       "      <th>a_prop</th>\n",
       "      <th>dist_m</th>\n",
       "      <th>t_cerc</th>\n",
       "      <th>lat</th>\n",
       "      <th>long</th>\n",
       "      <th>uf_m2</th>\n",
       "      <th>year</th>\n",
       "      <th>mes</th>\n",
       "      <th>dia</th>\n",
       "    </tr>\n",
       "  </thead>\n",
       "  <tbody>\n",
       "    <tr>\n",
       "      <th>a_prop</th>\n",
       "      <td>1.000000</td>\n",
       "      <td>0.000331</td>\n",
       "      <td>0.047653</td>\n",
       "      <td>-0.079202</td>\n",
       "      <td>0.029402</td>\n",
       "      <td>-0.208992</td>\n",
       "      <td>0.036283</td>\n",
       "      <td>-0.046375</td>\n",
       "      <td>-0.032389</td>\n",
       "    </tr>\n",
       "    <tr>\n",
       "      <th>dist_m</th>\n",
       "      <td>0.000331</td>\n",
       "      <td>1.000000</td>\n",
       "      <td>-0.623462</td>\n",
       "      <td>0.572962</td>\n",
       "      <td>0.769078</td>\n",
       "      <td>-0.684205</td>\n",
       "      <td>0.006052</td>\n",
       "      <td>0.051153</td>\n",
       "      <td>0.007711</td>\n",
       "    </tr>\n",
       "    <tr>\n",
       "      <th>t_cerc</th>\n",
       "      <td>0.047653</td>\n",
       "      <td>-0.623462</td>\n",
       "      <td>1.000000</td>\n",
       "      <td>-0.433158</td>\n",
       "      <td>-0.443012</td>\n",
       "      <td>0.610963</td>\n",
       "      <td>0.012597</td>\n",
       "      <td>0.007666</td>\n",
       "      <td>-0.024757</td>\n",
       "    </tr>\n",
       "    <tr>\n",
       "      <th>lat</th>\n",
       "      <td>-0.079202</td>\n",
       "      <td>0.572962</td>\n",
       "      <td>-0.433158</td>\n",
       "      <td>1.000000</td>\n",
       "      <td>0.378430</td>\n",
       "      <td>-0.550588</td>\n",
       "      <td>-0.020843</td>\n",
       "      <td>-0.012748</td>\n",
       "      <td>0.006086</td>\n",
       "    </tr>\n",
       "    <tr>\n",
       "      <th>long</th>\n",
       "      <td>0.029402</td>\n",
       "      <td>0.769078</td>\n",
       "      <td>-0.443012</td>\n",
       "      <td>0.378430</td>\n",
       "      <td>1.000000</td>\n",
       "      <td>-0.518406</td>\n",
       "      <td>-0.019215</td>\n",
       "      <td>0.069290</td>\n",
       "      <td>-0.003048</td>\n",
       "    </tr>\n",
       "    <tr>\n",
       "      <th>uf_m2</th>\n",
       "      <td>-0.208992</td>\n",
       "      <td>-0.684205</td>\n",
       "      <td>0.610963</td>\n",
       "      <td>-0.550588</td>\n",
       "      <td>-0.518406</td>\n",
       "      <td>1.000000</td>\n",
       "      <td>0.099521</td>\n",
       "      <td>-0.064610</td>\n",
       "      <td>0.007812</td>\n",
       "    </tr>\n",
       "    <tr>\n",
       "      <th>year</th>\n",
       "      <td>0.036283</td>\n",
       "      <td>0.006052</td>\n",
       "      <td>0.012597</td>\n",
       "      <td>-0.020843</td>\n",
       "      <td>-0.019215</td>\n",
       "      <td>0.099521</td>\n",
       "      <td>1.000000</td>\n",
       "      <td>-0.812756</td>\n",
       "      <td>-0.079560</td>\n",
       "    </tr>\n",
       "    <tr>\n",
       "      <th>mes</th>\n",
       "      <td>-0.046375</td>\n",
       "      <td>0.051153</td>\n",
       "      <td>0.007666</td>\n",
       "      <td>-0.012748</td>\n",
       "      <td>0.069290</td>\n",
       "      <td>-0.064610</td>\n",
       "      <td>-0.812756</td>\n",
       "      <td>1.000000</td>\n",
       "      <td>0.139600</td>\n",
       "    </tr>\n",
       "    <tr>\n",
       "      <th>dia</th>\n",
       "      <td>-0.032389</td>\n",
       "      <td>0.007711</td>\n",
       "      <td>-0.024757</td>\n",
       "      <td>0.006086</td>\n",
       "      <td>-0.003048</td>\n",
       "      <td>0.007812</td>\n",
       "      <td>-0.079560</td>\n",
       "      <td>0.139600</td>\n",
       "      <td>1.000000</td>\n",
       "    </tr>\n",
       "  </tbody>\n",
       "</table>\n",
       "</div>"
      ],
      "text/plain": [
       "          a_prop    dist_m    t_cerc       lat      long     uf_m2      year  \\\n",
       "a_prop  1.000000  0.000331  0.047653 -0.079202  0.029402 -0.208992  0.036283   \n",
       "dist_m  0.000331  1.000000 -0.623462  0.572962  0.769078 -0.684205  0.006052   \n",
       "t_cerc  0.047653 -0.623462  1.000000 -0.433158 -0.443012  0.610963  0.012597   \n",
       "lat    -0.079202  0.572962 -0.433158  1.000000  0.378430 -0.550588 -0.020843   \n",
       "long    0.029402  0.769078 -0.443012  0.378430  1.000000 -0.518406 -0.019215   \n",
       "uf_m2  -0.208992 -0.684205  0.610963 -0.550588 -0.518406  1.000000  0.099521   \n",
       "year    0.036283  0.006052  0.012597 -0.020843 -0.019215  0.099521  1.000000   \n",
       "mes    -0.046375  0.051153  0.007666 -0.012748  0.069290 -0.064610 -0.812756   \n",
       "dia    -0.032389  0.007711 -0.024757  0.006086 -0.003048  0.007812 -0.079560   \n",
       "\n",
       "             mes       dia  \n",
       "a_prop -0.046375 -0.032389  \n",
       "dist_m  0.051153  0.007711  \n",
       "t_cerc  0.007666 -0.024757  \n",
       "lat    -0.012748  0.006086  \n",
       "long    0.069290 -0.003048  \n",
       "uf_m2  -0.064610  0.007812  \n",
       "year   -0.812756 -0.079560  \n",
       "mes     1.000000  0.139600  \n",
       "dia     0.139600  1.000000  "
      ]
     },
     "execution_count": 38,
     "metadata": {},
     "output_type": "execute_result"
    }
   ],
   "source": [
    "df.corr() #matriz de correlacion entre features. Observamos que latitud y longitud tienen una muy baja\n",
    "# correlacion con uf_m2, junto con año y día. \n"
   ]
  },
  {
   "cell_type": "code",
   "execution_count": 39,
   "id": "e7dbe28f",
   "metadata": {},
   "outputs": [
    {
     "data": {
      "text/plain": [
       "dia       0.007812\n",
       "mes       0.064610\n",
       "year      0.099521\n",
       "a_prop    0.208992\n",
       "long      0.518406\n",
       "lat       0.550588\n",
       "t_cerc    0.610963\n",
       "dist_m    0.684205\n",
       "uf_m2     1.000000\n",
       "Name: uf_m2, dtype: float64"
      ]
     },
     "execution_count": 39,
     "metadata": {},
     "output_type": "execute_result"
    }
   ],
   "source": [
    "(df.corr()['uf_m2'].abs()).sort_values(ascending=True)"
   ]
  },
  {
   "cell_type": "code",
   "execution_count": 40,
   "id": "97728b6e",
   "metadata": {},
   "outputs": [
    {
     "data": {
      "text/plain": [
       "(420, 6)"
      ]
     },
     "execution_count": 40,
     "metadata": {},
     "output_type": "execute_result"
    }
   ],
   "source": [
    "# creamos un dataset de prueba quitando las features: dia, mes, año\n",
    "prueba= df.drop(['dia','mes','year',], axis=1)\n",
    "prueba.shape"
   ]
  },
  {
   "cell_type": "code",
   "execution_count": 41,
   "id": "ed0215f3",
   "metadata": {},
   "outputs": [
    {
     "data": {
      "text/html": [
       "<div>\n",
       "<style scoped>\n",
       "    .dataframe tbody tr th:only-of-type {\n",
       "        vertical-align: middle;\n",
       "    }\n",
       "\n",
       "    .dataframe tbody tr th {\n",
       "        vertical-align: top;\n",
       "    }\n",
       "\n",
       "    .dataframe thead th {\n",
       "        text-align: right;\n",
       "    }\n",
       "</style>\n",
       "<table border=\"1\" class=\"dataframe\">\n",
       "  <thead>\n",
       "    <tr style=\"text-align: right;\">\n",
       "      <th></th>\n",
       "      <th>a_prop</th>\n",
       "      <th>dist_m</th>\n",
       "      <th>t_cerc</th>\n",
       "      <th>lat</th>\n",
       "      <th>long</th>\n",
       "      <th>uf_m2</th>\n",
       "    </tr>\n",
       "  </thead>\n",
       "  <tbody>\n",
       "    <tr>\n",
       "      <th>290</th>\n",
       "      <td>12.7</td>\n",
       "      <td>170.1289</td>\n",
       "      <td>1</td>\n",
       "      <td>-33.46371</td>\n",
       "      <td>-70.62984</td>\n",
       "      <td>32.9</td>\n",
       "    </tr>\n",
       "    <tr>\n",
       "      <th>292</th>\n",
       "      <td>31.5</td>\n",
       "      <td>414.9476</td>\n",
       "      <td>4</td>\n",
       "      <td>-33.47199</td>\n",
       "      <td>-70.64464</td>\n",
       "      <td>32.5</td>\n",
       "    </tr>\n",
       "    <tr>\n",
       "      <th>293</th>\n",
       "      <td>39.7</td>\n",
       "      <td>333.3679</td>\n",
       "      <td>9</td>\n",
       "      <td>-33.47016</td>\n",
       "      <td>-70.63932</td>\n",
       "      <td>32.4</td>\n",
       "    </tr>\n",
       "    <tr>\n",
       "      <th>294</th>\n",
       "      <td>13.1</td>\n",
       "      <td>1164.8380</td>\n",
       "      <td>4</td>\n",
       "      <td>-33.48156</td>\n",
       "      <td>-70.63406</td>\n",
       "      <td>32.2</td>\n",
       "    </tr>\n",
       "    <tr>\n",
       "      <th>295</th>\n",
       "      <td>7.1</td>\n",
       "      <td>2175.0300</td>\n",
       "      <td>3</td>\n",
       "      <td>-33.45305</td>\n",
       "      <td>-70.61254</td>\n",
       "      <td>32.1</td>\n",
       "    </tr>\n",
       "    <tr>\n",
       "      <th>297</th>\n",
       "      <td>37.1</td>\n",
       "      <td>918.6357</td>\n",
       "      <td>1</td>\n",
       "      <td>-33.46198</td>\n",
       "      <td>-70.65063</td>\n",
       "      <td>31.9</td>\n",
       "    </tr>\n",
       "    <tr>\n",
       "      <th>298</th>\n",
       "      <td>3.9</td>\n",
       "      <td>2147.3760</td>\n",
       "      <td>3</td>\n",
       "      <td>-33.45299</td>\n",
       "      <td>-70.61284</td>\n",
       "      <td>31.7</td>\n",
       "    </tr>\n",
       "    <tr>\n",
       "      <th>299</th>\n",
       "      <td>18.2</td>\n",
       "      <td>451.6419</td>\n",
       "      <td>8</td>\n",
       "      <td>-33.45945</td>\n",
       "      <td>-70.64490</td>\n",
       "      <td>31.6</td>\n",
       "    </tr>\n",
       "    <tr>\n",
       "      <th>300</th>\n",
       "      <td>38.3</td>\n",
       "      <td>642.6985</td>\n",
       "      <td>3</td>\n",
       "      <td>-33.46559</td>\n",
       "      <td>-70.63713</td>\n",
       "      <td>31.5</td>\n",
       "    </tr>\n",
       "  </tbody>\n",
       "</table>\n",
       "</div>"
      ],
      "text/plain": [
       "     a_prop     dist_m  t_cerc       lat      long  uf_m2\n",
       "290    12.7   170.1289       1 -33.46371 -70.62984   32.9\n",
       "292    31.5   414.9476       4 -33.47199 -70.64464   32.5\n",
       "293    39.7   333.3679       9 -33.47016 -70.63932   32.4\n",
       "294    13.1  1164.8380       4 -33.48156 -70.63406   32.2\n",
       "295     7.1  2175.0300       3 -33.45305 -70.61254   32.1\n",
       "297    37.1   918.6357       1 -33.46198 -70.65063   31.9\n",
       "298     3.9  2147.3760       3 -33.45299 -70.61284   31.7\n",
       "299    18.2   451.6419       8 -33.45945 -70.64490   31.6\n",
       "300    38.3   642.6985       3 -33.46559 -70.63713   31.5"
      ]
     },
     "execution_count": 41,
     "metadata": {},
     "output_type": "execute_result"
    }
   ],
   "source": [
    "prueba.loc[290:300]"
   ]
  },
  {
   "cell_type": "code",
   "execution_count": 42,
   "id": "11a25653",
   "metadata": {
    "scrolled": false
   },
   "outputs": [
    {
     "data": {
      "text/plain": [
       "<AxesSubplot:xlabel='year'>"
      ]
     },
     "execution_count": 42,
     "metadata": {},
     "output_type": "execute_result"
    },
    {
     "data": {
      "image/png": "[encoded data removed]",
      "text/plain": [
       "<Figure size 432x288 with 1 Axes>"
      ]
     },
     "metadata": {
      "needs_background": "light"
     },
     "output_type": "display_data"
    }
   ],
   "source": [
    "df.plot(x='year', y='uf_m2', style='o')\n"
   ]
  },
  {
   "cell_type": "markdown",
   "id": "9561c759",
   "metadata": {},
   "source": [
    "**Matriz de dispersion. En la diagonal principal se muestran el histograma de la variable correspondiente**"
   ]
  },
  {
   "cell_type": "code",
   "execution_count": 43,
   "id": "febdcf51",
   "metadata": {
    "scrolled": true
   },
   "outputs": [
    {
     "data": {
      "image/png": "[encoded data removed]",
      "text/plain": [
       "<Figure size 1080x1080 with 36 Axes>"
      ]
     },
     "metadata": {
      "needs_background": "light"
     },
     "output_type": "display_data"
    }
   ],
   "source": [
    "axes=pd.plotting.scatter_matrix(prueba, alpha=0.5, figsize=(15,15), ax=None, grid=False, diagonal='hist', marker='.', density_kwds=None, hist_kwds=None, range_padding=0.05);\n",
    "\n",
    "for i in range(np.shape(axes)[0]):\n",
    "    for j in range(np.shape(axes)[1]):\n",
    "        if i < j:\n",
    "            axes[i,j].set_visible(False)"
   ]
  },
  {
   "cell_type": "code",
   "execution_count": 44,
   "id": "9d1a4b96",
   "metadata": {},
   "outputs": [],
   "source": [
    "X=prueba.drop('uf_m2', axis=1)\n",
    "y=prueba['uf_m2']"
   ]
  },
  {
   "cell_type": "code",
   "execution_count": 45,
   "id": "bb51038b",
   "metadata": {},
   "outputs": [
    {
     "data": {
      "text/plain": [
       "((294, 5), (126, 5))"
      ]
     },
     "execution_count": 45,
     "metadata": {},
     "output_type": "execute_result"
    }
   ],
   "source": [
    "X_train, X_test, y_train, y_test = train_test_split(X, y, test_size=0.3, random_state=1)\n",
    "X_train.shape, X_test.shape\n"
   ]
  },
  {
   "cell_type": "code",
   "execution_count": 46,
   "id": "489f7026",
   "metadata": {},
   "outputs": [
    {
     "data": {
      "text/plain": [
       "XGBRegressor(base_score=0.5, booster='gbtree', callbacks=None,\n",
       "             colsample_bylevel=1, colsample_bynode=1, colsample_bytree=1,\n",
       "             early_stopping_rounds=None, enable_categorical=False,\n",
       "             eval_metric=None, gamma=0.3, gpu_id=-1, grow_policy='depthwise',\n",
       "             importance_type=None, interaction_constraints='',\n",
       "             learning_rate=0.05, max_bin=256, max_cat_to_onehot=4,\n",
       "             max_delta_step=0, max_depth=3, max_leaves=0, min_child_weight=3,\n",
       "             missing=nan, monotone_constraints='()', n_estimators=100, n_jobs=0,\n",
       "             num_parallel_tree=1, predictor='auto', random_state=0, reg_alpha=0,\n",
       "             reg_lambda=1, ...)"
      ]
     },
     "execution_count": 46,
     "metadata": {},
     "output_type": "execute_result"
    }
   ],
   "source": [
    "model= XGBRegressor(gpu_id=-1,learning_rate=0.05, gamma=0.3,max_depth=3, n_estimators=100,subsample=0.8, min_child_weight=3)\n",
    "model.fit(X_train, y_train)"
   ]
  },
  {
   "cell_type": "code",
   "execution_count": 47,
   "id": "abd139dd",
   "metadata": {},
   "outputs": [
    {
     "data": {
      "text/plain": [
       "<AxesSubplot:title={'center':'Feature importance'}, xlabel='F score', ylabel='Features'>"
      ]
     },
     "execution_count": 47,
     "metadata": {},
     "output_type": "execute_result"
    },
    {
     "data": {
      "image/png": "[encoded data removed]",
      "text/plain": [
       "<Figure size 432x288 with 1 Axes>"
      ]
     },
     "metadata": {
      "needs_background": "light"
     },
     "output_type": "display_data"
    }
   ],
   "source": [
    "xgb.plot_importance(model, ax=pyplot.gca())"
   ]
  },
  {
   "cell_type": "code",
   "execution_count": 48,
   "id": "3ba97780",
   "metadata": {},
   "outputs": [],
   "source": [
    "pred_train = model.predict(X_train)"
   ]
  },
  {
   "cell_type": "code",
   "execution_count": 49,
   "id": "caa42dbc",
   "metadata": {},
   "outputs": [
    {
     "name": "stdout",
     "output_type": "stream",
     "text": [
      "0.8816003871901137\n"
     ]
    }
   ],
   "source": [
    "from sklearn.metrics import mean_squared_error, r2_score\n",
    "print(r2_score(y_train, pred_train))"
   ]
  },
  {
   "cell_type": "code",
   "execution_count": 50,
   "id": "3025be38",
   "metadata": {},
   "outputs": [
    {
     "name": "stdout",
     "output_type": "stream",
     "text": [
      "19.408659474920164\n"
     ]
    }
   ],
   "source": [
    "print(mean_squared_error(y_train, pred_train))"
   ]
  },
  {
   "cell_type": "code",
   "execution_count": 51,
   "id": "3b16d12e",
   "metadata": {},
   "outputs": [],
   "source": [
    "predict=model.predict(X_test)"
   ]
  },
  {
   "cell_type": "code",
   "execution_count": 52,
   "id": "851e0776",
   "metadata": {},
   "outputs": [
    {
     "name": "stdout",
     "output_type": "stream",
     "text": [
      "0.7140206142469452\n"
     ]
    }
   ],
   "source": [
    "print(r2_score(y_test, predict))"
   ]
  },
  {
   "cell_type": "code",
   "execution_count": 53,
   "id": "20c07817",
   "metadata": {},
   "outputs": [
    {
     "name": "stdout",
     "output_type": "stream",
     "text": [
      "47.2802325801132\n"
     ]
    }
   ],
   "source": [
    "print(mean_squared_error(y_test, predict))"
   ]
  },
  {
   "cell_type": "code",
   "execution_count": 54,
   "id": "7f4109f9",
   "metadata": {},
   "outputs": [
    {
     "data": {
      "text/plain": [
       "'xgboost = XGBRegressor(gpu_id=-1,learning_rate=0.3, max_depth=6, n_estimators=100,subsample=0.8)  # gpu_id=-1\\n\\n\\n\\ntuned_parameters = {\\n   \\'max_depth\\':[3,4,5,6],\\n   \\'min_child_weight\\':[1,2,3,4,5,6],\\n   \\'gamma\\':[i/10.0 for i in range(0,5)], \\n   \\'learning_rate\\':[0.01,0.05,0.1,0.2]  #, \\'n_estimators\\':[100, 500,1000]\\n}\\n\\nclf = GridSearchCV(xgboost, param_grid = tuned_parameters,cv=5)\\nclf.fit(X_train, y_train)\\n\\nprint(\"Best parameters set found on development set:\")\\nprint( clf.best_params_)\\nprint(\"Best score found on development set:\")\\nprint( clf.best_score_)\\n\\n# clf.grid_scores_ \\n'"
      ]
     },
     "execution_count": 54,
     "metadata": {},
     "output_type": "execute_result"
    }
   ],
   "source": [
    "\"\"\"xgboost = XGBRegressor(gpu_id=-1,learning_rate=0.3, max_depth=6, n_estimators=100,subsample=0.8)  # gpu_id=-1\n",
    "\n",
    "\n",
    "\n",
    "tuned_parameters = {\n",
    "   'max_depth':[3,4,5,6],\n",
    "   'min_child_weight':[1,2,3,4,5,6],\n",
    "   'gamma':[i/10.0 for i in range(0,5)], \n",
    "   'learning_rate':[0.01,0.05,0.1,0.2]  #, 'n_estimators':[100, 500,1000]\n",
    "}\n",
    "\n",
    "clf = GridSearchCV(xgboost, param_grid = tuned_parameters,cv=5)\n",
    "clf.fit(X_train, y_train)\n",
    "\n",
    "print(\"Best parameters set found on development set:\")\n",
    "print( clf.best_params_)\n",
    "print(\"Best score found on development set:\")\n",
    "print( clf.best_score_)\n",
    "\n",
    "# clf.grid_scores_ \n",
    "\"\"\"\n",
    "#tuning de parámetros a posteriori. se ejecuta una sola vez"
   ]
  },
  {
   "cell_type": "code",
   "execution_count": 55,
   "id": "1f4c475f",
   "metadata": {},
   "outputs": [
    {
     "data": {
      "text/plain": [
       "XGBRegressor(base_score=0.5, booster='gbtree', callbacks=None,\n",
       "             colsample_bylevel=1, colsample_bynode=1, colsample_bytree=1,\n",
       "             early_stopping_rounds=None, enable_categorical=False,\n",
       "             eval_metric=None, gamma=0.2, gpu_id=-1, grow_policy='depthwise',\n",
       "             importance_type=None, interaction_constraints='',\n",
       "             learning_rate=0.05, max_bin=256, max_cat_to_onehot=4,\n",
       "             max_delta_step=0, max_depth=4, max_leaves=0, min_child_weight=6,\n",
       "             missing=nan, monotone_constraints='()', n_estimators=100, n_jobs=0,\n",
       "             num_parallel_tree=1, predictor='auto', random_state=0, reg_alpha=0,\n",
       "             reg_lambda=1, ...)"
      ]
     },
     "execution_count": 55,
     "metadata": {},
     "output_type": "execute_result"
    }
   ],
   "source": [
    "model= XGBRegressor(gpu_id=-1,learning_rate=0.05, gamma=0.2,max_depth=4, n_estimators=100,subsample=0.8, min_child_weight=6)\n",
    "model.fit(X_train, y_train)"
   ]
  },
  {
   "cell_type": "code",
   "execution_count": 56,
   "id": "c22e4e0e",
   "metadata": {},
   "outputs": [],
   "source": [
    "pred_train = model.predict(X_train)\n"
   ]
  },
  {
   "cell_type": "code",
   "execution_count": 57,
   "id": "7ab2b976",
   "metadata": {},
   "outputs": [
    {
     "name": "stdout",
     "output_type": "stream",
     "text": [
      "0.8971199551037988\n"
     ]
    }
   ],
   "source": [
    "from sklearn.metrics import mean_squared_error, r2_score\n",
    "print(r2_score(y_train, pred_train))\n"
   ]
  },
  {
   "cell_type": "code",
   "execution_count": 58,
   "id": "fdacf8d0",
   "metadata": {},
   "outputs": [
    {
     "name": "stdout",
     "output_type": "stream",
     "text": [
      "4.106654833150361\n"
     ]
    }
   ],
   "source": [
    "r=mean_squared_error(y_train, pred_train, squared=False)\n",
    "print(r) #RMSE es de 4.1 menor a 7 pedido en el desafío"
   ]
  },
  {
   "cell_type": "code",
   "execution_count": 59,
   "id": "1b736c93",
   "metadata": {},
   "outputs": [],
   "source": [
    "predict=model.predict(X_test)"
   ]
  },
  {
   "cell_type": "code",
   "execution_count": 60,
   "id": "42699bc7",
   "metadata": {},
   "outputs": [
    {
     "name": "stdout",
     "output_type": "stream",
     "text": [
      "0.71867424116138\n"
     ]
    }
   ],
   "source": [
    "print(r2_score(y_test, predict))"
   ]
  },
  {
   "cell_type": "code",
   "execution_count": 61,
   "id": "d0bfb3be",
   "metadata": {},
   "outputs": [],
   "source": [
    "# ingresamos los valores a predecir\n",
    "lista=[[16.2, 289.3248,5,-36.4671001,-70.64071],\n",
    "       [13.6, 4082.015, 0,-36.4650120,-70.63201]]\n",
    "estimar=pd.DataFrame(lista, columns=['a_prop', 'dist_m', 't_cerc', 'lat', 'long'])"
   ]
  },
  {
   "cell_type": "code",
   "execution_count": 62,
   "id": "30eb2e51",
   "metadata": {},
   "outputs": [
    {
     "data": {
      "text/html": [
       "<div>\n",
       "<style scoped>\n",
       "    .dataframe tbody tr th:only-of-type {\n",
       "        vertical-align: middle;\n",
       "    }\n",
       "\n",
       "    .dataframe tbody tr th {\n",
       "        vertical-align: top;\n",
       "    }\n",
       "\n",
       "    .dataframe thead th {\n",
       "        text-align: right;\n",
       "    }\n",
       "</style>\n",
       "<table border=\"1\" class=\"dataframe\">\n",
       "  <thead>\n",
       "    <tr style=\"text-align: right;\">\n",
       "      <th></th>\n",
       "      <th>a_prop</th>\n",
       "      <th>dist_m</th>\n",
       "      <th>t_cerc</th>\n",
       "      <th>lat</th>\n",
       "      <th>long</th>\n",
       "    </tr>\n",
       "  </thead>\n",
       "  <tbody>\n",
       "    <tr>\n",
       "      <th>0</th>\n",
       "      <td>16.2</td>\n",
       "      <td>289.3248</td>\n",
       "      <td>5</td>\n",
       "      <td>-36.467100</td>\n",
       "      <td>-70.64071</td>\n",
       "    </tr>\n",
       "    <tr>\n",
       "      <th>1</th>\n",
       "      <td>13.6</td>\n",
       "      <td>4082.0150</td>\n",
       "      <td>0</td>\n",
       "      <td>-36.465012</td>\n",
       "      <td>-70.63201</td>\n",
       "    </tr>\n",
       "  </tbody>\n",
       "</table>\n",
       "</div>"
      ],
      "text/plain": [
       "   a_prop     dist_m  t_cerc        lat      long\n",
       "0    16.2   289.3248       5 -36.467100 -70.64071\n",
       "1    13.6  4082.0150       0 -36.465012 -70.63201"
      ]
     },
     "execution_count": 62,
     "metadata": {},
     "output_type": "execute_result"
    }
   ],
   "source": [
    "estimar.head()"
   ]
  },
  {
   "cell_type": "code",
   "execution_count": 63,
   "id": "b13a3e08",
   "metadata": {},
   "outputs": [
    {
     "data": {
      "text/plain": [
       "array([47.480236, 30.542458], dtype=float32)"
      ]
     },
     "execution_count": 63,
     "metadata": {},
     "output_type": "execute_result"
    }
   ],
   "source": [
    "pre=model.predict(estimar)\n",
    "pre #valores predichos por el modelo y los precios en UF por metro cuadrado. "
   ]
  },
  {
   "cell_type": "markdown",
   "id": "978cbe70",
   "metadata": {},
   "source": [
    " **valores predichos por el modelo y los precios en UF por metro cuadrado. 47.480236 por m2 para la primera propiedad\n",
    " y 30.542458 para la segunda**"
   ]
  },
  {
   "cell_type": "markdown",
   "id": "44db3f0a",
   "metadata": {},
   "source": [
    "--------------------------------------------FIN----------------------------------------------------"
   ]
  }
 ],
 "metadata": {
  "kernelspec": {
   "display_name": "Python 3 (ipykernel)",
   "language": "python",
   "name": "python3"
  },
  "language_info": {
   "codemirror_mode": {
    "name": "ipython",
    "version": 3
   },
   "file_extension": ".py",
   "mimetype": "text/x-python",
   "name": "python",
   "nbconvert_exporter": "python",
   "pygments_lexer": "ipython3",
   "version": "3.9.12"
  }
 },
 "nbformat": 4,
 "nbformat_minor": 5
}
