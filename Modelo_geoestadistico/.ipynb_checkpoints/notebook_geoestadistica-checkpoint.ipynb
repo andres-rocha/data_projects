{
 "cells": [
  {
   "cell_type": "markdown",
   "id": "bb16baae",
   "metadata": {},
   "source": [
    "# Análisis y modelo desafío propuesto Data Scientist \n",
    "### Realizado por Mauricio Rocha L\n",
    "### correo: m.andres.rocha@gmail.com\n",
    "### telefono: +56 990957207\n",
    "### github:  https://github.com/andres-rocha"
   ]
  },
  {
   "cell_type": "markdown",
   "id": "d2982e60",
   "metadata": {},
   "source": [
    "Un problema de regresión consiste en predecir una variable de respuesta continua y en función de varias variables de entrada x, en general el valor predicho se denota por $\\hat{y}$. De este modo nuestro modelo f sería: \n",
    "\n",
    "\\begin{align}\n",
    "\\hat{y}=f(x)\n",
    "\\end{align}\n",
    "  \n",
    "\n",
    "En Geoestadística se utiliza una variación de este problema que consiste en modelar una variable que\n",
    "es medida en un espacio geográfico. En este caso se busca predecir la variable en una ubicación usando como\n",
    "variables de entrada muestras en otras ubicaciones."
   ]
  },
  {
   "cell_type": "markdown",
   "id": "8b7658e5",
   "metadata": {},
   "source": [
    "<img src=\"geo1.png\">"
   ]
  },
  {
   "cell_type": "markdown",
   "id": "6ba528fc",
   "metadata": {},
   "source": [
    "Aquí vamos a utilizar la notación $z(x)$ para denotar el valor de la variable $z$ medido en la posición $x$. En\n",
    "caso de estimar el punto central de la imagen con un regresor lineal, la predicción tendría la siguiente forma:  \n",
    "\n",
    "\\begin{align*}\n",
    "\\hat{z}(x_{0})=\\sum_{i=1}^{n} \\lambda_{i}z(x_{i})\n",
    "\\end{align*}\n",
    "\n",
    "Donde $x_{0}$ es la ubicación objetivo y $z(x_{i})$ son las mediciones disponibles en otras ubicaciones. Para unificar\n",
    "la notación la variable de respuesta en este caso sería:  \n",
    "\n",
    "\\begin{align*}\n",
    "\\hat{y}=\\hat{z}(x_{0})\n",
    "\\end{align*}\n",
    "\n",
    "\n",
    "y las variables de entrada  \n",
    "\n",
    "\n",
    "\\begin{align*}\n",
    "z(x_{1}), z(x_{2}), ... ,z(x_{n})\n",
    "\\end{align*}\n",
    "\n",
    "\n",
    "El modelamiento geoestadístico cobra mayor relevancia cuando existe continuidad espacial en los datos.\n",
    "Basado en la intuición de que los datos cercanos entre sí deberían ser similares, un regresor simple consiste en\n",
    "asignar los ponderadores inversamente proporcional a la distancia.  \n",
    "Si denotamos la distancia entre $x$ e $y$ como $d(x,y), el regresor de inverso de la distancia es el siguiente:  \n",
    "\n",
    "\\begin{align*}\n",
    "\\hat{z}(x_{0})=\\sum_{i=1}^{n} (d(x_{0},x_{i}))^{n} z(x_{i})\n",
    "\\end{align*}\n",
    "\n",
    "donde el exponente $a$ un entero negativo, el cual es un hiper parámetro del método (de aquí viene el\n",
    "nombre de inverso de la distancia).\n",
    "\n",
    "Problema\n",
    "Junto a esta prueba se adjunta una base de datos georreferenciada en formato csv con muestras de suelo\n",
    "y diferentes mediciones de variables de concentraciones de elementos químicos, Co denota cobalto.\n",
    "El objetivo de este ejercicio es modelar el cobalto y construir un regresor. Se le pide lo siguiente:\n",
    "\n",
    "1- Leave One Out\n",
    "Implementar el método de validación cruzada Leave One Out, esto es equivalente a un $k Fold$ con $k=n$\n",
    "para el inverso de la distancia al cuadrado $(a=2)$\n",
    "Obs: Debe usar solo los datos de cobalto en esta etapa.\n",
    "\n",
    "2.- Análisis de resultados\n",
    "Evalúe los resultados del regresor de forma breve y presente el análisis en el formato que más le acomode\n",
    "(documento, PPT, Jupyter, etc).\n",
    "En su opinión. Es un buen regresor? .Por qué? .Cómo se podría mejorar?\n",
    "\n",
    "3.-  Propuesta de regresor\n",
    "Repita ambos ejercicios anteriores con un regresor propuesto por usted y esta vez puede incorporar el\n",
    "resto de variables en el modelamiento. ¿Cómo se comparan estos resultados con el caso anterior (inverso de la\n",
    "distancia)?"
   ]
  },
  {
   "cell_type": "code",
   "execution_count": null,
   "id": "85be13d5",
   "metadata": {},
   "outputs": [],
   "source": [
    "import pandas as pd\n",
    "import numpy as np\n",
    "import matplotlib.pyplot as plt\n",
    "import random"
   ]
  },
  {
   "cell_type": "markdown",
   "id": "124473f5",
   "metadata": {},
   "source": [
    "#### Para correr notebook, poner archivo 'DatasetGrades.xlsx' en el mismo directorio que el archivo notebook_geostadistica.ipynb"
   ]
  },
  {
   "cell_type": "code",
   "execution_count": null,
   "id": "19fe7e4c",
   "metadata": {},
   "outputs": [],
   "source": [
    "path = ('DatasetGrades.xlsx') # Importamos archivo excel y leemos la hoja con los datos\n",
    "xl = pd.ExcelFile(path)\n",
    "print(xl.sheet_names)"
   ]
  },
  {
   "cell_type": "code",
   "execution_count": null,
   "id": "1f9dd006",
   "metadata": {},
   "outputs": [],
   "source": [
    "df = pd.read_excel('DatasetGrades.xlsx', 'Datos_Jura_Limpios') #guardamos datos como pandas Dataframe\n",
    "df"
   ]
  },
  {
   "cell_type": "code",
   "execution_count": null,
   "id": "11dc0b1a",
   "metadata": {},
   "outputs": [],
   "source": [
    "df = df.drop(['Cd','Zn', 'Cu', 'Ni', 'Cr', 'Pb'], axis=1) # eliminamos columnas que no se utilizarán para el análisis"
   ]
  },
  {
   "cell_type": "code",
   "execution_count": null,
   "id": "8dbf28f0",
   "metadata": {},
   "outputs": [],
   "source": [
    "df.head()"
   ]
  },
  {
   "cell_type": "code",
   "execution_count": null,
   "id": "3f568c60",
   "metadata": {},
   "outputs": [],
   "source": [
    "df.shape"
   ]
  },
  {
   "cell_type": "code",
   "execution_count": null,
   "id": "fe5d94bb",
   "metadata": {},
   "outputs": [],
   "source": [
    "is_NaN=df.isnull() #verificamos datos nulos\n",
    "row_has_NaN = is_NaN.any(axis=1)\n",
    "rows_with_NaN = df[row_has_NaN]"
   ]
  },
  {
   "cell_type": "code",
   "execution_count": null,
   "id": "409f62c9",
   "metadata": {},
   "outputs": [],
   "source": [
    "df.info() #verificamos tipo de variables de los datos"
   ]
  },
  {
   "cell_type": "code",
   "execution_count": null,
   "id": "8c8cd67f",
   "metadata": {},
   "outputs": [],
   "source": [
    "df.rename(columns = {'Este[m]':'Este', 'Norte[m]':'Norte'}, inplace = True) # cambiamos nombre de las tablas"
   ]
  },
  {
   "cell_type": "code",
   "execution_count": null,
   "id": "fadb88e2",
   "metadata": {},
   "outputs": [],
   "source": [
    "df.head()"
   ]
  },
  {
   "cell_type": "code",
   "execution_count": null,
   "id": "fa89923b",
   "metadata": {},
   "outputs": [],
   "source": [
    "df.describe() #pequeño resumen estadistico de las variables"
   ]
  },
  {
   "cell_type": "code",
   "execution_count": null,
   "id": "f8fd6571",
   "metadata": {},
   "outputs": [],
   "source": [
    "import os # se realizará a través del algoritmo alpha-shape el contorno de los datos\n",
    "import sys\n",
    "import pandas as pd\n",
    "import numpy as np\n",
    "from descartes import PolygonPatch\n",
    "import matplotlib.pyplot as plt\n",
    "sys.path.insert(0, os.path.dirname(os.getcwd()))\n",
    "import alphashape"
   ]
  },
  {
   "cell_type": "code",
   "execution_count": null,
   "id": "7952a4bc",
   "metadata": {},
   "outputs": [],
   "source": [
    "points_2d = []"
   ]
  },
  {
   "cell_type": "code",
   "execution_count": null,
   "id": "5a97ab61",
   "metadata": {},
   "outputs": [],
   "source": [
    "for index, row in df.iterrows():\n",
    "    points_2d.append((row['Este'], row['Norte']))"
   ]
  },
  {
   "cell_type": "code",
   "execution_count": null,
   "id": "82f3c2ea",
   "metadata": {},
   "outputs": [],
   "source": [
    "points_2d=np.array(points_2d)"
   ]
  },
  {
   "cell_type": "code",
   "execution_count": null,
   "id": "00fe29c7",
   "metadata": {},
   "outputs": [],
   "source": [
    "fig, ax = plt.subplots()\n",
    "ax.scatter(*zip(*points_2d))\n",
    "plt.show() # grafica de los puntos dados (sólo posiciones geográficas)"
   ]
  },
  {
   "cell_type": "code",
   "execution_count": null,
   "id": "a17dc97c",
   "metadata": {},
   "outputs": [],
   "source": [
    "# algoritmo alpha-shape. Es un algoritmo que permite dibujar el contorno de una nube de puntos en varias dimensiones\n",
    "# se escoge un valor para alpha = 300 para que las esferas o bolas creadas sólo consideren el contorno de los datos. es un\n",
    "# parametro del algoritmo. La funcion retorna los puntos del borde como indices\n",
    "\n",
    "from scipy.spatial import Delaunay\n",
    "import numpy as np\n",
    "\n",
    "\n",
    "def alpha_shape(points, alpha, only_outer=True):\n",
    "   \n",
    "    assert points.shape[0] > 3 # requiere mas de 3 puntos\n",
    "\n",
    "    def add_edge(edges, i, j):\n",
    "        \"\"\"\n",
    "        Add a line between the i-th and j-th points,\n",
    "        if not in the list already\n",
    "        \"\"\"\n",
    "        if (i, j) in edges or (j, i) in edges:\n",
    "            # already added\n",
    "            assert (j, i) in edges, \"Can't go twice over same directed edge right?\"\n",
    "            if only_outer:\n",
    "                # if both neighboring triangles are in shape, it is not a boundary edge\n",
    "                edges.remove((j, i))\n",
    "            return\n",
    "        edges.add((i, j))\n",
    "\n",
    "    tri = Delaunay(points)\n",
    "    edges = set()\n",
    " \n",
    "    for ia, ib, ic in tri.simplices:\n",
    "        pa = points[ia]\n",
    "        pb = points[ib]\n",
    "        pc = points[ic]\n",
    "       \n",
    "        a = np.sqrt((pa[0] - pb[0]) ** 2 + (pa[1] - pb[1]) ** 2)\n",
    "        b = np.sqrt((pb[0] - pc[0]) ** 2 + (pb[1] - pc[1]) ** 2)\n",
    "        c = np.sqrt((pc[0] - pa[0]) ** 2 + (pc[1] - pa[1]) ** 2)\n",
    "        s = (a + b + c) / 2.0\n",
    "        area = np.sqrt(s * (s - a) * (s - b) * (s - c))\n",
    "        circum_r = a * b * c / (4.0 * area)\n",
    "        if circum_r < alpha:\n",
    "            add_edge(edges, ia, ib)\n",
    "            add_edge(edges, ib, ic)\n",
    "            add_edge(edges, ic, ia)\n",
    "    return edges"
   ]
  },
  {
   "cell_type": "code",
   "execution_count": null,
   "id": "cb7e9778",
   "metadata": {
    "scrolled": true
   },
   "outputs": [],
   "source": [
    "from matplotlib.pyplot import *\n",
    "\n",
    "points = points_2d\n",
    "edges = alpha_shape(points_2d, alpha=300, only_outer=True)\n",
    "figure(figsize=(8, 6), dpi=200)\n",
    "plot(points_2d[:, 0], points_2d[:, 1], '.')\n",
    "for i, j in edges:\n",
    "    plot(points_2d[[i, j], 0], points_2d[[i, j], 1], 'r--')\n",
    "plot(491,1862,'b*')\n",
    "show()\n"
   ]
  },
  {
   "cell_type": "code",
   "execution_count": null,
   "id": "d4eecb92",
   "metadata": {},
   "outputs": [],
   "source": [
    "edges #cada valor representa el indice de puntos. Cada par ordenado nos indica el origen y termino de destino \n",
    "# de cada segmento. el par (a,b) significa que el segmento o borde parte en el punto de indice a y termina en el punto \n",
    "# de indice b"
   ]
  },
  {
   "cell_type": "code",
   "execution_count": null,
   "id": "26d4d33f",
   "metadata": {},
   "outputs": [],
   "source": [
    "figure(figsize=(8, 6), dpi=200)\n",
    "for i, j in edges:\n",
    "    plot(points_2d[[i, j], 0], points_2d[[i, j], 1], 'r.')\n",
    "show()"
   ]
  },
  {
   "cell_type": "code",
   "execution_count": null,
   "id": "12609b4c",
   "metadata": {},
   "outputs": [],
   "source": [
    "a=[] # se crea una lista para guardar los indices de los bordes"
   ]
  },
  {
   "cell_type": "code",
   "execution_count": null,
   "id": "339fe1ba",
   "metadata": {},
   "outputs": [],
   "source": [
    "for i,j in edges:\n",
    "    a.append(i)\n",
    "    a.append(j)"
   ]
  },
  {
   "cell_type": "code",
   "execution_count": null,
   "id": "ef7bcd3d",
   "metadata": {},
   "outputs": [],
   "source": [
    "a=np.array(a)"
   ]
  },
  {
   "cell_type": "code",
   "execution_count": null,
   "id": "cdd0f587",
   "metadata": {},
   "outputs": [],
   "source": [
    "a=np.unique(a) #como los puntos de los borden son definidos por segmentos, es decir desde el punto de inicio\n",
    "# al punto de termino, van a existir puntos repetidos por lo que se elminan los repetidos"
   ]
  },
  {
   "cell_type": "code",
   "execution_count": null,
   "id": "798f13e1",
   "metadata": {},
   "outputs": [],
   "source": [
    "a"
   ]
  },
  {
   "cell_type": "code",
   "execution_count": null,
   "id": "9a1cea78",
   "metadata": {},
   "outputs": [],
   "source": [
    "len(a) # son 60 puntos los que definen el borde"
   ]
  },
  {
   "cell_type": "code",
   "execution_count": null,
   "id": "e73d9408",
   "metadata": {},
   "outputs": [],
   "source": [
    "b=points_2d # guardamos todos los puntos interiores en la lista b para un posterior análisis"
   ]
  },
  {
   "cell_type": "code",
   "execution_count": null,
   "id": "00dbe99a",
   "metadata": {},
   "outputs": [],
   "source": [
    "b=np.delete(b, a, axis=0)"
   ]
  },
  {
   "cell_type": "code",
   "execution_count": null,
   "id": "5bd97bcd",
   "metadata": {},
   "outputs": [],
   "source": [
    "b.shape"
   ]
  },
  {
   "cell_type": "code",
   "execution_count": null,
   "id": "04fc5224",
   "metadata": {},
   "outputs": [],
   "source": [
    "df.head()"
   ]
  },
  {
   "cell_type": "code",
   "execution_count": null,
   "id": "efab1cb4",
   "metadata": {},
   "outputs": [],
   "source": [
    "# función que calcula la distancia entre un punto dado y todos los restantes. Se consideran para este análisis los 4 puntos mas \n",
    "# cercanos como en la figura del desafio (pdf)\n",
    "def near_distance(indice):\n",
    "    lista=[]\n",
    "    lista_pos=[]\n",
    "    x0=points_2d[indice][0]\n",
    "    y0=points_2d[indice][1]\n",
    "    for i in range(0,359):\n",
    "        if i != indice:\n",
    "            x1=points_2d[i][0]\n",
    "            y1=points_2d[i][1]\n",
    "            distance=np.sqrt((x0-x1)**2+(y0-y1)**2)\n",
    "            lista.append(distance)\n",
    "            lista_pos.append(i)\n",
    "    df1=pd.DataFrame({'indice': lista_pos, 'distancia': lista})\n",
    "    df1=df1.sort_values(by=['distancia'])\n",
    "    df1=df1[0:4]\n",
    "    df1=df1.reset_index(drop=True)\n",
    "    return df1\n",
    "\n"
   ]
  },
  {
   "cell_type": "code",
   "execution_count": null,
   "id": "a6979d90",
   "metadata": {},
   "outputs": [],
   "source": [
    "# son enviados cada punto a la funcion distancia definida en la celda anterior. Se consideran sólo las 4 distancias mas cercanas\n",
    "for i in range(0,359):\n",
    "    df1=near_distance(i)\n",
    "    \n",
    "    df.at[i,'first_near'] = df1['distancia'][0]\n",
    "    df.at[i,'index1'] = df1['indice'][0]\n",
    "    \n",
    "    df.at[i,'sec_near'] = df1['distancia'][1]\n",
    "    df.at[i,'index2'] = df1['indice'][1]\n",
    "    \n",
    "    df.at[i,'third_near'] = df1['distancia'][2]\n",
    "    df.at[i,'index3'] = df1['indice'][2]\n",
    "    \n",
    "    df.at[i,'fourth_near'] = df1['distancia'][3]\n",
    "    df.at[i,'index4'] = df1['indice'][3]"
   ]
  },
  {
   "cell_type": "code",
   "execution_count": null,
   "id": "0c139a81",
   "metadata": {},
   "outputs": [],
   "source": [
    "#se guardaron los 4 puntos cercanos correspondientes (leave one out) a cada valor, sin considerar el punto estudiado\n",
    "# son guardadas las 4 distancias en orden de proximidad en las columnas [first_near, sec_near, ...] y los indices\n",
    "# de los puntos cercanos\n",
    "df "
   ]
  },
  {
   "cell_type": "code",
   "execution_count": null,
   "id": "5cbd509f",
   "metadata": {},
   "outputs": [],
   "source": []
  },
  {
   "cell_type": "code",
   "execution_count": null,
   "id": "63b11e02",
   "metadata": {},
   "outputs": [],
   "source": [
    "#creamos la columna predict que corresponde al calculo de la distancia segun la formula otorgada en el pdf\n",
    "# observar que p es la potencia de la distancia. Si se ingresan valores positivos para p, la potencia está en el denominador\n",
    "# por lo que tomaria valores negativos como en la formula dada\n",
    "p=2\n",
    "for i in range(0,359):\n",
    "    df.at[i,'predict_Co'] = ((1/(df['first_near'][i])**p)*df['Co'][df['index1'][0]] + (1/(df['sec_near'][i])**p)*df['Co'][df['index2'][0]] + (1/(df['third_near'][i])**p)*df['Co'][df['index3'][0]] + (1/(df['fourth_near'][i])**p)*df['Co'][df['index4'][0]])"
   ]
  },
  {
   "cell_type": "code",
   "execution_count": null,
   "id": "ae3ef9bb",
   "metadata": {},
   "outputs": [],
   "source": [
    "df.head(50)"
   ]
  },
  {
   "cell_type": "code",
   "execution_count": null,
   "id": "0427b6b0",
   "metadata": {},
   "outputs": [],
   "source": [
    "from sklearn.metrics import mean_squared_error\n",
    "MSE = mean_squared_error(df['Co'], df['predict_Co'])\n",
    "MSE"
   ]
  },
  {
   "cell_type": "code",
   "execution_count": null,
   "id": "004bafaa",
   "metadata": {},
   "outputs": [],
   "source": [
    "RMSE = np.sqrt(MSE)\n",
    "print(\"Root Mean Square Error:\\n\")\n",
    "print(RMSE)"
   ]
  },
  {
   "cell_type": "markdown",
   "id": "7845513a",
   "metadata": {},
   "source": [
    "#### Observamos que el error cuadratico medio para la formula propuesta es de 9.95\n"
   ]
  },
  {
   "cell_type": "markdown",
   "id": "c4bfe7d8",
   "metadata": {},
   "source": [
    "#### Se propone el siguiente modelo, donde se considera agregar en el numerador, la suma de las distancias de los puntos mas cercanos al punto a predecir."
   ]
  },
  {
   "cell_type": "markdown",
   "id": "19df6a13",
   "metadata": {},
   "source": [
    "<img src=\"https://wikimedia.org/api/rest_v1/media/math/render/svg/9c43e9b1f84cc8b358947e4582eb210886c98b4d\" alt=\"Alternative text\" />"
   ]
  },
  {
   "cell_type": "code",
   "execution_count": null,
   "id": "af585258",
   "metadata": {},
   "outputs": [],
   "source": [
    "# creamos una nueva columna llamanda predict1 con esta nuevo modelo propuesto\n",
    "p=2\n",
    "for i in range(0,359):\n",
    "    suma=1/df['first_near'][i]**p + 1/df['sec_near'][i]**p+1/df['third_near'][i]**p+1/df['fourth_near'][i]**p\n",
    "    df.at[i,'predict1_Co'] = ((1/(df['first_near'][i])**p)*df['Co'][df['index1'][0]] + (1/(df['sec_near'][i])**p)*df['Co'][df['index2'][0]] + (1/(df['third_near'][i])**p)*df['Co'][df['index3'][0]] + (1/(df['fourth_near'][i])**p)*df['Co'][df['index4'][0]])/suma"
   ]
  },
  {
   "cell_type": "code",
   "execution_count": null,
   "id": "4d2efbf5",
   "metadata": {},
   "outputs": [],
   "source": [
    "df.head()"
   ]
  },
  {
   "cell_type": "code",
   "execution_count": null,
   "id": "16de17fb",
   "metadata": {},
   "outputs": [],
   "source": [
    "MSE = mean_squared_error(df['Co'], df['predict1_Co'])\n",
    "MSE"
   ]
  },
  {
   "cell_type": "code",
   "execution_count": null,
   "id": "42793feb",
   "metadata": {},
   "outputs": [],
   "source": [
    "RMSE = np.sqrt(MSE)\n",
    "print(\"Root Mean Square Error:\\n\")\n",
    "print(RMSE)"
   ]
  },
  {
   "cell_type": "markdown",
   "id": "e42584db",
   "metadata": {},
   "source": [
    "#### Oservamos que el RMSE se reduce a 3.80 con el modelo propuesto"
   ]
  },
  {
   "cell_type": "code",
   "execution_count": null,
   "id": "b21da7f4",
   "metadata": {},
   "outputs": [],
   "source": [
    "# grafico de validacion de vecinos cercanos. k es el indice de cualquier punto (0,358) y en este caso está como parámetro random\n",
    "# observar que cualquiera sea el valor de este, el algoritmo nos trae los 4 puntos mas cercanos.\n",
    "# pinta de amarillo el punto estudiado y en verde los puntos cercanos.\n",
    "# puede fijar el valor de k o cambiarlo a gusto para evaluar algoritmo visualmente. \n",
    "\n",
    "from matplotlib.pyplot import *\n",
    "\n",
    "points = points_2d\n",
    "edges = alpha_shape(points_2d, alpha=300, only_outer=True)\n",
    "figure(figsize=(8, 6), dpi=1000)\n",
    "plot(points_2d[:, 0], points_2d[:, 1], '.')\n",
    "for i, j in edges:\n",
    "    plot(points_2d[[i, j], 0], points_2d[[i, j], 1], 'r--')\n",
    "\n",
    "k=random.randint(0, 358) # posicion del punto para graficar vecinos mas cercanos se elige un punto al azar\n",
    "print(k)\n",
    "plot(df['Este'][df['index1'][k]],df['Norte'][df['index1'][k]],'g*')\n",
    "plot(df['Este'][df['index2'][k]],df['Norte'][df['index2'][k]],'g*')\n",
    "plot(df['Este'][df['index3'][k]],df['Norte'][df['index3'][k]],'g*')\n",
    "plot(df['Este'][df['index4'][k]],df['Norte'][df['index4'][k]],'g*')\n",
    "plot(df['Este'][k],df['Norte'][k],'y*')\n",
    "\n",
    "show()"
   ]
  },
  {
   "cell_type": "code",
   "execution_count": null,
   "id": "5d7dd2f2",
   "metadata": {},
   "outputs": [],
   "source": [
    "df_tot= pd.read_excel('DatasetGrades.xlsx', 'Datos_Jura_Limpios') #guardamos datos como pandas Dataframe"
   ]
  },
  {
   "cell_type": "code",
   "execution_count": null,
   "id": "3bf630ff",
   "metadata": {},
   "outputs": [],
   "source": [
    "df_tot.head()"
   ]
  },
  {
   "cell_type": "code",
   "execution_count": null,
   "id": "bfa46c1b",
   "metadata": {},
   "outputs": [],
   "source": [
    "df.insert(3,'Zn',df_tot['Zn']) # Se realiza análisis para la variable Zn"
   ]
  },
  {
   "cell_type": "code",
   "execution_count": null,
   "id": "635861a7",
   "metadata": {},
   "outputs": [],
   "source": [
    "df.head()"
   ]
  },
  {
   "cell_type": "code",
   "execution_count": null,
   "id": "35967f87",
   "metadata": {},
   "outputs": [],
   "source": [
    "# se crea un predictor usando la formula dada y se guardan los valores en la columna predict_Zn\n",
    "p=2\n",
    "for i in range(0,359):\n",
    "    df.at[i,'predict_Zn'] = ((1/(df['first_near'][i])**p)*df['Zn'][df['index1'][0]] + (1/(df['sec_near'][i])**p)*df['Zn'][df['index2'][0]] + (1/(df['third_near'][i])**p)*df['Zn'][df['index3'][0]] + (1/(df['fourth_near'][i])**p)*df['Zn'][df['index4'][0]])"
   ]
  },
  {
   "cell_type": "code",
   "execution_count": null,
   "id": "93f7d787",
   "metadata": {},
   "outputs": [],
   "source": [
    "# se crea un predictor usando la formula propuesta y se guardan los valores en la columna predict1_Zn\n",
    "p=2\n",
    "for i in range(0,359):\n",
    "    suma=1/df['first_near'][i]**p + 1/df['sec_near'][i]**p+1/df['third_near'][i]**p+1/df['fourth_near'][i]**p\n",
    "    df.at[i,'predict1_Zn'] = ((1/(df['first_near'][i])**p)*df['Zn'][df['index1'][0]] + (1/(df['sec_near'][i])**p)*df['Zn'][df['index2'][0]] + (1/(df['third_near'][i])**p)*df['Co'][df['index3'][0]] + (1/(df['fourth_near'][i])**p)*df['Co'][df['index4'][0]])/suma"
   ]
  },
  {
   "cell_type": "code",
   "execution_count": null,
   "id": "b6c46a4f",
   "metadata": {},
   "outputs": [],
   "source": [
    "df.head()"
   ]
  },
  {
   "cell_type": "code",
   "execution_count": null,
   "id": "d43604a0",
   "metadata": {},
   "outputs": [],
   "source": [
    "# Calculamos error cuadratico medio con formula dada\n",
    "MSE = mean_squared_error(df['Zn'], df['predict_Zn']) \n",
    "MSE"
   ]
  },
  {
   "cell_type": "code",
   "execution_count": null,
   "id": "156964f6",
   "metadata": {},
   "outputs": [],
   "source": [
    "# RMSE obtenido para la formula dada\n",
    "RMSE = np.sqrt(MSE)\n",
    "print(\"Root Mean Square Error:\\n\")\n",
    "print(RMSE)"
   ]
  },
  {
   "cell_type": "code",
   "execution_count": null,
   "id": "3724f0cf",
   "metadata": {},
   "outputs": [],
   "source": [
    "# Calculamos error cuadratico medio con formula propuesta\n",
    "MSE = mean_squared_error(df['Zn'], df['predict1_Zn'])\n",
    "MSE"
   ]
  },
  {
   "cell_type": "code",
   "execution_count": null,
   "id": "dedcac3e",
   "metadata": {},
   "outputs": [],
   "source": [
    "# RMSE obtenido para la formula propuesta\n",
    "RMSE = np.sqrt(MSE)\n",
    "print(\"Root Mean Square Error:\\n\")\n",
    "print(RMSE)"
   ]
  },
  {
   "cell_type": "markdown",
   "id": "ef833790",
   "metadata": {},
   "source": [
    "| Modelo | Dado | Propuesto |\n",
    "| --- | --- | --- |\n",
    "| MSE Cobalto | 99.10 | 14.46 |\n",
    "| RMSE Cobalto | 9.95 | 3.8 |\n",
    "| MSE Zinc | 6562.29 | 1692 |\n",
    "| RMSE Zinc | 81.00 | 41.13 |"
   ]
  },
  {
   "cell_type": "markdown",
   "id": "2c5edae3",
   "metadata": {},
   "source": [
    "#### Análisís final: Observamos que en ambas variables, tanto en la estimación de Zinc como de Cobalto, el modelo propuesto tiene un mejor desempeño que el dado ya que tiene valores mas bajos al comparar RMSE (RMSE = 0 prediccion perfecta). Por tiempo no se consideró ver el comportamiento del desempeño sacando los datos de los bordes ya que al evaluar estos datos, el modelo considerará los puntos cercanos interiores a la figura y esto puede aumentar el error, ya que se están estimando con los datos que se poseen y no con los datos reales (que no se cuentan al ser datos de la frontera). Es posible que quitando del estudio los datos de la frontera se consiga un mejor desempeño del modelo. También se tentaron algunos valores para la norma P (que en este notebook permite fijarlo) para P=1,2,3,10 y 20. Observandose que el mejor desempeño estaba en los valores entre 2 y 5. En este estudio sólo se consideraron los 4 vecinos mas cercanos a cada punto (como se mostraba en la imagen del pdf adjunto). También se puede analizar si el poderador tiene un mejor comportamiento considerando mas vecinos de cada punto. Topologicamente, se pueden considerar distintos bordes pero el algoritmo alpha-shape arrojo que para un radio de r=300 se obtenía una frontera bastante regular. También se pueden evaluar otras métricas que permite el Espacio Euclideano para la distancia que ajusten de mejor manera la predicción."
   ]
  }
 ],
 "metadata": {
  "kernelspec": {
   "display_name": "Python 3 (ipykernel)",
   "language": "python",
   "name": "python3"
  },
  "language_info": {
   "codemirror_mode": {
    "name": "ipython",
    "version": 3
   },
   "file_extension": ".py",
   "mimetype": "text/x-python",
   "name": "python",
   "nbconvert_exporter": "python",
   "pygments_lexer": "ipython3",
   "version": "3.9.12"
  }
 },
 "nbformat": 4,
 "nbformat_minor": 5
}
